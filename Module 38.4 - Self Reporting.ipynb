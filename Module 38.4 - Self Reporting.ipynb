{
  "nbformat": 4,
  "nbformat_minor": 0,
  "metadata": {
    "colab": {
      "name": "38.4 - Self Reporting",
      "provenance": [],
      "include_colab_link": true
    },
    "kernelspec": {
      "name": "python3",
      "display_name": "Python 3"
    }
  },
  "cells": [
    {
      "cell_type": "markdown",
      "metadata": {
        "id": "view-in-github",
        "colab_type": "text"
      },
      "source": [
        "<a href=\"https://colab.research.google.com/github/pfistermiyagi/Master/blob/master/Module%2038.4%20-%20Self%20Reporting.ipynb\" target=\"_parent\"><img src=\"https://colab.research.google.com/assets/colab-badge.svg\" alt=\"Open In Colab\"/></a>"
      ]
    },
    {
      "cell_type": "markdown",
      "metadata": {
        "id": "WtvHMttvFFRF",
        "colab_type": "text"
      },
      "source": [
        "#DRILL: When to use surveys\n",
        "\n",
        "State whether a survey would be the best option for answering each of the following questions.\n",
        "\n",
        "* Popularity of various Uber drivers.  \n",
        "    > No. There is a feature inside the app that already gives the option to rank drivers.  \n",
        "\n",
        "* A grocery store wants to know how much people like strawberry, chocolate, and vanilla ice cream.  \n",
        "    > No. They can look directly at sales for these numbers.  \n",
        "\n",
        "* Trojan wants to know whether their condoms are more popular among straight people or gay people.  \n",
        "    > Yes. There is no way to directly know if a Trojan customer is gay or straight.  \n",
        "\n",
        "* Recently, rental rates for HappyCars have increased by 30%, which is quite unusual. You want to find out why this is happening and how to keep the increase going.  \n",
        "    > A survey may help to find the answer, but I doubt it will be the only resource to answer the question. Looking at other effects, such as, seasonality, advertising, etc. would paint a clearer picture.\n",
        "\n",
        "* Assessing the success rate of a new advertising campaign.  \n",
        "    > No. You can use other metrics, clicks, opens, sales, etc.  \n",
        "\n",
        "* Measuring the effect of nurse/patient ratio on patient recovery rates in hospital wards.  \n",
        "    > No. There will be hard numbers to back this up or not. Patients opinions would be a poor resource."
      ]
    },
    {
      "cell_type": "code",
      "metadata": {
        "id": "t8qN8gqXHH3K",
        "colab_type": "code",
        "colab": {}
      },
      "source": [
        ""
      ],
      "execution_count": 0,
      "outputs": []
    }
  ]
}