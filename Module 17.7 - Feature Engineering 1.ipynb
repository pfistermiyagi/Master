{
 "cells": [
  {
   "cell_type": "code",
   "execution_count": 1,
   "metadata": {},
   "outputs": [],
   "source": [
    "import numpy as np\n",
    "import pandas as pd\n",
    "import matplotlib.pyplot as plt\n",
    "import seaborn as sns\n",
    "from scipy.stats.stats import ttest_ind\n",
    "%matplotlib inline"
   ]
  },
  {
   "cell_type": "code",
   "execution_count": 2,
   "metadata": {},
   "outputs": [],
   "source": [
    "df = pd.read_csv(r'C:\\Users\\AP\\Desktop\\StudentsPerformance.csv')"
   ]
  },
  {
   "cell_type": "code",
   "execution_count": null,
   "metadata": {
    "scrolled": true
   },
   "outputs": [],
   "source": [
    "df.head(2)"
   ]
  },
  {
   "cell_type": "code",
   "execution_count": 3,
   "metadata": {
    "scrolled": false
   },
   "outputs": [
    {
     "data": {
      "text/html": [
       "<div>\n",
       "<style scoped>\n",
       "    .dataframe tbody tr th:only-of-type {\n",
       "        vertical-align: middle;\n",
       "    }\n",
       "\n",
       "    .dataframe tbody tr th {\n",
       "        vertical-align: top;\n",
       "    }\n",
       "\n",
       "    .dataframe thead th {\n",
       "        text-align: right;\n",
       "    }\n",
       "</style>\n",
       "<table border=\"1\" class=\"dataframe\">\n",
       "  <thead>\n",
       "    <tr style=\"text-align: right;\">\n",
       "      <th></th>\n",
       "      <th>math score</th>\n",
       "      <th>reading score</th>\n",
       "      <th>writing score</th>\n",
       "    </tr>\n",
       "  </thead>\n",
       "  <tbody>\n",
       "    <tr>\n",
       "      <th>count</th>\n",
       "      <td>1000.00000</td>\n",
       "      <td>1000.000000</td>\n",
       "      <td>1000.000000</td>\n",
       "    </tr>\n",
       "    <tr>\n",
       "      <th>mean</th>\n",
       "      <td>66.08900</td>\n",
       "      <td>69.169000</td>\n",
       "      <td>68.054000</td>\n",
       "    </tr>\n",
       "    <tr>\n",
       "      <th>std</th>\n",
       "      <td>15.16308</td>\n",
       "      <td>14.600192</td>\n",
       "      <td>15.195657</td>\n",
       "    </tr>\n",
       "    <tr>\n",
       "      <th>min</th>\n",
       "      <td>0.00000</td>\n",
       "      <td>17.000000</td>\n",
       "      <td>10.000000</td>\n",
       "    </tr>\n",
       "    <tr>\n",
       "      <th>25%</th>\n",
       "      <td>57.00000</td>\n",
       "      <td>59.000000</td>\n",
       "      <td>57.750000</td>\n",
       "    </tr>\n",
       "    <tr>\n",
       "      <th>50%</th>\n",
       "      <td>66.00000</td>\n",
       "      <td>70.000000</td>\n",
       "      <td>69.000000</td>\n",
       "    </tr>\n",
       "    <tr>\n",
       "      <th>75%</th>\n",
       "      <td>77.00000</td>\n",
       "      <td>79.000000</td>\n",
       "      <td>79.000000</td>\n",
       "    </tr>\n",
       "    <tr>\n",
       "      <th>max</th>\n",
       "      <td>100.00000</td>\n",
       "      <td>100.000000</td>\n",
       "      <td>100.000000</td>\n",
       "    </tr>\n",
       "  </tbody>\n",
       "</table>\n",
       "</div>"
      ],
      "text/plain": [
       "       math score  reading score  writing score\n",
       "count  1000.00000    1000.000000    1000.000000\n",
       "mean     66.08900      69.169000      68.054000\n",
       "std      15.16308      14.600192      15.195657\n",
       "min       0.00000      17.000000      10.000000\n",
       "25%      57.00000      59.000000      57.750000\n",
       "50%      66.00000      70.000000      69.000000\n",
       "75%      77.00000      79.000000      79.000000\n",
       "max     100.00000     100.000000     100.000000"
      ]
     },
     "execution_count": 3,
     "metadata": {},
     "output_type": "execute_result"
    }
   ],
   "source": [
    "df.describe()"
   ]
  },
  {
   "cell_type": "code",
   "execution_count": 6,
   "metadata": {},
   "outputs": [
    {
     "data": {
      "text/plain": [
       "65    36\n",
       "62    35\n",
       "59    32\n",
       "69    32\n",
       "73    27\n",
       "61    27\n",
       "67    26\n",
       "63    26\n",
       "68    26\n",
       "71    26\n",
       "58    25\n",
       "74    25\n",
       "77    24\n",
       "53    24\n",
       "66    24\n",
       "81    22\n",
       "79    22\n",
       "75    21\n",
       "76    21\n",
       "64    20\n",
       "82    18\n",
       "70    18\n",
       "54    18\n",
       "55    18\n",
       "57    18\n",
       "52    18\n",
       "72    18\n",
       "49    17\n",
       "80    17\n",
       "60    16\n",
       "      ..\n",
       "97     6\n",
       "42     6\n",
       "41     6\n",
       "89     6\n",
       "35     5\n",
       "43     5\n",
       "37     4\n",
       "93     4\n",
       "39     4\n",
       "29     3\n",
       "32     3\n",
       "99     3\n",
       "38     3\n",
       "98     3\n",
       "96     3\n",
       "30     2\n",
       "36     2\n",
       "95     2\n",
       "27     2\n",
       "34     2\n",
       "33     1\n",
       "28     1\n",
       "26     1\n",
       "24     1\n",
       "23     1\n",
       "22     1\n",
       "19     1\n",
       "18     1\n",
       "8      1\n",
       "0      1\n",
       "Name: math score, Length: 81, dtype: int64"
      ]
     },
     "execution_count": 6,
     "metadata": {},
     "output_type": "execute_result"
    }
   ],
   "source": [
    "df['math score'].value_counts()"
   ]
  },
  {
   "cell_type": "markdown",
   "metadata": {},
   "source": [
    "---------------------------\n",
    "1. Are the exam score variables normally distributed? If not, apply a Box-Cox transformation. Does anything change?"
   ]
  },
  {
   "cell_type": "code",
   "execution_count": 8,
   "metadata": {
    "scrolled": false
   },
   "outputs": [
    {
     "data": {
      "image/png": "[encoded data removed]",
      "text/plain": [
       "<Figure size 1296x720 with 6 Axes>"
      ]
     },
     "metadata": {
      "needs_background": "light"
     },
     "output_type": "display_data"
    }
   ],
   "source": [
    "from scipy.stats import boxcox\n",
    "\n",
    "# math score contains one zero, will drop (boxcox requires positive numbers)\n",
    "\n",
    "math_boxcox,_ = boxcox(df[df[\"math score\"] > 0][\"math score\"])\n",
    "reading_boxcox,_ = boxcox(df[\"reading score\"])\n",
    "writing_boxcox,_ = boxcox(df[\"writing score\"])\n",
    "\n",
    "plt.figure(figsize=(18,10))\n",
    "\n",
    "# histograms of distributions\n",
    "\n",
    "plt.subplot(2,3,1)\n",
    "plt.hist(df[\"math score\"])\n",
    "plt.title(\"math\")\n",
    "\n",
    "plt.subplot(2,3,2)\n",
    "plt.hist(df[\"reading score\"])\n",
    "plt.title(\"reading\")\n",
    "\n",
    "plt.subplot(2,3,3)\n",
    "plt.hist(df[\"writing score\"])\n",
    "plt.title(\"writing\")\n",
    "\n",
    "# histograms after boxcox\n",
    "\n",
    "plt.subplot(2,3,4)\n",
    "plt.hist(math_boxcox)\n",
    "plt.title(\"math (boxcox)\")\n",
    "\n",
    "plt.subplot(2,3,5)\n",
    "plt.hist(reading_boxcox)\n",
    "plt.title(\"reading (boxcox)\")\n",
    "\n",
    "plt.subplot(2,3,6)\n",
    "plt.hist(writing_boxcox)\n",
    "plt.title(\"writing (boxcox)\")\n",
    "\n",
    "plt.tight_layout()\n",
    "plt.show()"
   ]
  },
  {
   "cell_type": "markdown",
   "metadata": {},
   "source": [
    "The distributions appear to be normally distributed. Let's confirm with JB test."
   ]
  },
  {
   "cell_type": "code",
   "execution_count": 9,
   "metadata": {
    "scrolled": true
   },
   "outputs": [
    {
     "name": "stdout",
     "output_type": "stream",
     "text": [
      "Math JB test stat: 15.912256686712709 /// p value: 0.0003505075386818213\n",
      "Math Norm test stat: 15.408960513931822 /// p value: 0.00045080293869937836\n",
      "Reading JB test stat: 11.383300575987892 /// p value: 0.0033740202672214448\n",
      "Reading Norm test stat: 11.11741279628622 /// p value: 0.003853758403576582\n",
      "Writing JB test stat: 13.98509448257235 /// p value: 0.0009187033894586527\n",
      "Writing Norm test stat: 13.606450837263859 /// p value: 0.0011101885439899974\n"
     ]
    }
   ],
   "source": [
    "from scipy.stats import jarque_bera\n",
    "from scipy.stats import normaltest\n",
    "\n",
    "# JB test\n",
    "\n",
    "jb_stats = jarque_bera(df[\"math score\"])\n",
    "norm_stats = normaltest(df[\"math score\"])\n",
    "\n",
    "print(\"Math JB test stat: {0} /// p value: {1}\".format(jb_stats[0], jb_stats[1]))\n",
    "print(\"Math Norm test stat: {0} /// p value: {1}\".format(norm_stats[0], norm_stats[1]))\n",
    "\n",
    "jb_stats = jarque_bera(df[\"reading score\"])\n",
    "norm_stats = normaltest(df[\"reading score\"])\n",
    "\n",
    "print(\"Reading JB test stat: {0} /// p value: {1}\".format(jb_stats[0], jb_stats[1]))\n",
    "print(\"Reading Norm test stat: {0} /// p value: {1}\".format(norm_stats[0], norm_stats[1]))\n",
    "\n",
    "jb_stats = jarque_bera(df[\"writing score\"])\n",
    "norm_stats = normaltest(df[\"writing score\"])\n",
    "\n",
    "print(\"Writing JB test stat: {0} /// p value: {1}\".format(jb_stats[0], jb_stats[1]))\n",
    "print(\"Writing Norm test stat: {0} /// p value: {1}\".format(norm_stats[0], norm_stats[1]))"
   ]
  },
  {
   "cell_type": "markdown",
   "metadata": {},
   "source": [
    "All of the p-values are well under the significance level of 0.05, confirming distributions are normal."
   ]
  },
  {
   "cell_type": "code",
   "execution_count": 10,
   "metadata": {},
   "outputs": [
    {
     "name": "stdout",
     "output_type": "stream",
     "text": [
      "Math JB test stat: 1.7200980667409385 /// p value: 0.4231413337632879\n",
      "Math Norm test stat: 1.8323072783414356 /// p value: 0.40005484084042864\n",
      "Reading JB test stat: 4.119778575331906 /// p value: 0.1274680814024559\n",
      "Reading Norm test stat: 5.282274611852865 /// p value: 0.07128015609575467\n",
      "Writing JB test stat: 4.746478090040098 /// p value is 0.09317842784055597\n",
      "Writing Norm test stat: 6.267311355043339 /// p value is 0.04355827085023795\n"
     ]
    }
   ],
   "source": [
    "# boxcox JB test\n",
    "\n",
    "jb_stats = jarque_bera(math_boxcox)\n",
    "norm_stats = normaltest(math_boxcox)\n",
    "\n",
    "print(\"Math JB test stat: {0} /// p value: {1}\".format(jb_stats[0], jb_stats[1]))\n",
    "print(\"Math Norm test stat: {0} /// p value: {1}\".format(norm_stats[0], norm_stats[1]))\n",
    "\n",
    "jb_stats = jarque_bera(reading_boxcox)\n",
    "norm_stats = normaltest(reading_boxcox)\n",
    "\n",
    "print(\"Reading JB test stat: {0} /// p value: {1}\".format(jb_stats[0], jb_stats[1]))\n",
    "print(\"Reading Norm test stat: {0} /// p value: {1}\".format(norm_stats[0], norm_stats[1]))\n",
    "\n",
    "jb_stats = jarque_bera(writing_boxcox)\n",
    "norm_stats = normaltest(writing_boxcox)\n",
    "\n",
    "print(\"Writing JB test stat: {0} /// p value is {1}\".format(jb_stats[0], jb_stats[1]))\n",
    "print(\"Writing Norm test stat: {0} /// p value is {1}\".format(norm_stats[0], norm_stats[1]))"
   ]
  },
  {
   "cell_type": "markdown",
   "metadata": {},
   "source": [
    "Applying the boxcox brings the distribution further away from normal."
   ]
  },
  {
   "cell_type": "markdown",
   "metadata": {},
   "source": [
    "------------------------------\n",
    "2. Say we want to use a single variable for the exam scores as our target. For this purpose, create a new variable by taking a weighted average of the exam scores. Check whether this new variable is normally distributed. If it's not normally distributed, apply a Box-Cox transformation and check whether or not the transformed variable is normally distributed."
   ]
  },
  {
   "cell_type": "code",
   "execution_count": 14,
   "metadata": {
    "scrolled": true
   },
   "outputs": [
    {
     "data": {
      "image/png": "[encoded data removed]",
      "text/plain": [
       "<Figure size 432x288 with 1 Axes>"
      ]
     },
     "metadata": {
      "needs_background": "light"
     },
     "output_type": "display_data"
    },
    {
     "name": "stdout",
     "output_type": "stream",
     "text": [
      "JB test stat: 15.453387913085164 /// p value is 0.00044089934264401887\n",
      "Norm test stat: 15.186721327231322 /// p value is 0.0005037851534494478\n"
     ]
    }
   ],
   "source": [
    "from scipy.stats import jarque_bera\n",
    "from scipy.stats import normaltest\n",
    "\n",
    "# weighted avg score\n",
    "\n",
    "weight_score = (df[\"math score\"] +\n",
    "              df[\"reading score\"] + df[\"writing score\"])/3\n",
    "\n",
    "# histogram weighted avg score\n",
    "\n",
    "plt.hist(weight_score)\n",
    "plt.title(\"weight avg exam score\")\n",
    "\n",
    "plt.show()\n",
    "\n",
    "# JB and norm test\n",
    "\n",
    "jb_stats = jarque_bera(weight_score)\n",
    "norm_stats = normaltest(weight_score)\n",
    "\n",
    "print(\"JB test stat: {0} /// p value is {1}\".format(jb_stats[0], jb_stats[1]))\n",
    "print(\"Norm test stat: {0} /// p value is {1}\".format(norm_stats[0], norm_stats[1]))"
   ]
  },
  {
   "cell_type": "markdown",
   "metadata": {},
   "source": [
    "Weighted avg distribution is normal."
   ]
  },
  {
   "cell_type": "code",
   "execution_count": 15,
   "metadata": {
    "scrolled": false
   },
   "outputs": [
    {
     "data": {
      "image/png": "[encoded data removed]",
      "text/plain": [
       "<Figure size 432x288 with 1 Axes>"
      ]
     },
     "metadata": {
      "needs_background": "light"
     },
     "output_type": "display_data"
    },
    {
     "name": "stdout",
     "output_type": "stream",
     "text": [
      "JB test stat: 2.4353987431906026 /// p value is 0.29591016374203183\n",
      "Norm test stat: 2.779857245981238 /// p value is 0.2490930835165177\n"
     ]
    }
   ],
   "source": [
    "weight_boxcox,_ = boxcox(weight_score)\n",
    "\n",
    "# histogram exam score boxcox\n",
    "\n",
    "plt.hist(weight_boxcox)\n",
    "plt.title(\"weight avg score (boxcox)\")\n",
    "\n",
    "plt.show()\n",
    "\n",
    "# JB and norm test\n",
    "\n",
    "jb_stats = jarque_bera(weight_boxcox)\n",
    "norm_stats = normaltest(weight_boxcox)\n",
    "\n",
    "print(\"JB test stat: {0} /// p value is {1}\".format(jb_stats[0], jb_stats[1]))\n",
    "print(\"Norm test stat: {0} /// p value is {1}\".format(norm_stats[0], norm_stats[1]))"
   ]
  },
  {
   "cell_type": "markdown",
   "metadata": {},
   "source": [
    "The weighted avg score is not normally distributed. JB test confirms this p-value exceeds significance level of 0.05. Applying boxcox to weighted avg brought the distribution away from normality."
   ]
  },
  {
   "cell_type": "markdown",
   "metadata": {},
   "source": [
    "----------------------------------\n",
    "\n",
    "3. Which variables seem to be related with the target variable (the newly created variable in the previous question)? If our goal is to explain the determinants of the success in the exams, which variables in our dataset might be useful?"
   ]
  },
  {
   "cell_type": "code",
   "execution_count": 16,
   "metadata": {},
   "outputs": [
    {
     "data": {
      "image/png": "[encoded data removed]",
      "text/plain": [
       "<Figure size 1296x720 with 5 Axes>"
      ]
     },
     "metadata": {
      "needs_background": "light"
     },
     "output_type": "display_data"
    }
   ],
   "source": [
    "df[\"weight_score\"] = weight_score\n",
    "\n",
    "# histograms weighted avg score vs. single variables\n",
    "\n",
    "plt.figure(figsize=(18, 10))\n",
    "\n",
    "plt.subplot(2, 3, 1)\n",
    "sns.barplot(df.groupby(\"race/ethnicity\")\n",
    "        [\"weight_score\"].mean().index, df.groupby(\"race/ethnicity\")[\"weight_score\"].mean())\n",
    "plt.title(\"weighted avg score vs. race/ethnicity\")\n",
    "\n",
    "plt.subplot(2, 3, 2)\n",
    "sns.barplot(df.groupby(\"gender\")[\"weight_score\"].mean().index, df.groupby(\"gender\")[\"weight_score\"].mean())\n",
    "plt.title(\"weighted avg score vs. gender\")\n",
    "\n",
    "plt.subplot(2, 3, 3)\n",
    "sns.barplot(df.groupby(\"parental level of education\")[\"weight_score\"].mean().index,\n",
    "            df.groupby(\"parental level of education\")[\"weight_score\"].mean())\n",
    "plt.title(\"weighted avg score vs. parents education\")\n",
    "plt.xticks(rotation=\"vertical\")\n",
    "\n",
    "plt.subplot(2, 3, 4)\n",
    "sns.barplot(df.groupby(\"lunch\")[\"weight_score\"].mean().index, df.groupby(\"lunch\")[\"weight_score\"].mean())\n",
    "plt.title(\"weighted avg score vs. lunch\")\n",
    "\n",
    "plt.subplot(2, 3, 5)\n",
    "sns.barplot(df.groupby(\"test preparation course\")[\"weight_score\"].mean().index, \n",
    "            df.groupby(\"test preparation course\")[\"weight_score\"].mean())\n",
    "plt.title(\"weighted avg score vs. test prep course\")\n",
    "\n",
    "plt.tight_layout()\n",
    "plt.show()"
   ]
  },
  {
   "cell_type": "markdown",
   "metadata": {},
   "source": [
    "* There appears to be a uniform increase in scores from group A to group E concerning race/ethnicity. A more detailed look at this category might provide some insight.\n",
    "\n",
    "* On avg, females perform better on the exams than males.\n",
    "\n",
    "* There seems to be a correlation between high parental education and increased exam scores. It's interesting that kids whose parents completed some high school do better on avg than kids from parents who completed high school. Could be random, take a closer look.\n",
    "\n",
    "* Kids who get standard lunch score better on avg than kids who receive a free/reduced lunch. This is probably not directly related to the kind of lunch each receive, but possibly an overall economically challenged environment.\n",
    "\n",
    "* Reasonably so, kids who complete the test prep course score higher on avg than kids who do not complete it. \n",
    "\n",
    "Without further statistical testing, the two main variables that appear to make the biggest difference in avg test scores are lunch type and completing the test prep course. This will require further testing to confirm. However, I believe lunch type indicates an overall econonically disadvantaged situation, and not necessarily the physical contents of their lunch each day. "
   ]
  },
  {
   "cell_type": "code",
   "execution_count": null,
   "metadata": {},
   "outputs": [],
   "source": []
  }
 ],
 "metadata": {
  "kernelspec": {
   "display_name": "Python 3",
   "language": "python",
   "name": "python3"
  },
  "language_info": {
   "codemirror_mode": {
    "name": "ipython",
    "version": 3
   },
   "file_extension": ".py",
   "mimetype": "text/x-python",
   "name": "python",
   "nbconvert_exporter": "python",
   "pygments_lexer": "ipython3",
   "version": "3.7.2"
  }
 },
 "nbformat": 4,
 "nbformat_minor": 2
}
