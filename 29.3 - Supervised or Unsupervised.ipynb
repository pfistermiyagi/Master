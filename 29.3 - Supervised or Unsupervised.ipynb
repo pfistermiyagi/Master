{
  "nbformat": 4,
  "nbformat_minor": 0,
  "metadata": {
    "colab": {
      "name": "29.3 - Supervised or Unsupervised",
      "provenance": [],
      "collapsed_sections": [],
      "include_colab_link": true
    },
    "kernelspec": {
      "name": "python3",
      "display_name": "Python 3"
    }
  },
  "cells": [
    {
      "cell_type": "markdown",
      "metadata": {
        "id": "view-in-github",
        "colab_type": "text"
      },
      "source": [
        "<a href=\"https://colab.research.google.com/github/pfistermiyagi/Master/blob/master/29.3%20-%20Supervised%20or%20Unsupervised.ipynb\" target=\"_parent\"><img src=\"https://colab.research.google.com/assets/colab-badge.svg\" alt=\"Open In Colab\"/></a>"
      ]
    },
    {
      "cell_type": "code",
      "metadata": {
        "colab_type": "code",
        "id": "bh4Yo5NTf-py",
        "colab": {}
      },
      "source": [
        ""
      ],
      "execution_count": 0,
      "outputs": []
    },
    {
      "cell_type": "markdown",
      "metadata": {
        "id": "GfACX3P-fsCa",
        "colab_type": "text"
      },
      "source": [
        "For each of these scenarios decide if you could use supervised or unsupervised techniques, or both!\n",
        "\n",
        "1. Define the likelihood that an individual will contract a specific disease\n",
        "2. Translate a set of images into variables for modeling\n",
        "3. An ecommerce company wants to identify power users\n",
        "4. That same company wants to see shopping patterns in users\n",
        "5. You want to reduce the number of variables inputting into your random forest model"
      ]
    },
    {
      "cell_type": "markdown",
      "metadata": {
        "id": "PzJY_OUigOVr",
        "colab_type": "text"
      },
      "source": [
        "1. Supervised. Target variable defined.\n",
        "2. Unsupervised. Target variable not defined.\n",
        "3. Both. You could use supervised and try specific power users as target variables, or use unsupervised and let the model identify power users or groups of power users.\n",
        "4. Both. You could use supervised to find patterns in shopping behavior, or use unsupervised and let the model find shopping patterns and groups of shopping patterns. \n",
        "5. Both. PCA can work for supervised or unsupervised."
      ]
    }
  ]
}