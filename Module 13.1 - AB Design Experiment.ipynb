{
 "cells": [
  {
   "cell_type": "code",
   "execution_count": 1,
   "metadata": {},
   "outputs": [],
   "source": [
    "# Import libraries\n",
    "\n",
    "import numpy as np\n",
    "import pandas as pd\n",
    "import matplotlib.pyplot as plt\n",
    "%matplotlib inline"
   ]
  },
  {
   "cell_type": "code",
   "execution_count": 2,
   "metadata": {},
   "outputs": [],
   "source": [
    "# Import datasets 2007-2017\n",
    "\n",
    "df17 = pd.read_csv(r'C:\\Users\\AP\\Desktop\\Fars2017Accident.csv')\n",
    "df16 = pd.read_csv(r'C:\\Users\\AP\\Desktop\\Fars2016Accident.csv')\n",
    "df15 = pd.read_csv(r'C:\\Users\\AP\\Desktop\\Fars2015Accident.csv')\n",
    "df14 = pd.read_csv(r'C:\\Users\\AP\\Desktop\\Fars2014Accident.csv')\n",
    "df13 = pd.read_csv(r'C:\\Users\\AP\\Desktop\\Fars2013Accident.csv')\n",
    "df12 = pd.read_csv(r'C:\\Users\\AP\\Desktop\\Fars2012Accident.csv')\n",
    "df11 = pd.read_csv(r'C:\\Users\\AP\\Desktop\\Fars2011Accident.csv')\n",
    "df10 = pd.read_csv(r'C:\\Users\\AP\\Desktop\\Fars2010Accident.csv')\n",
    "df09 = pd.read_csv(r'C:\\Users\\AP\\Desktop\\Fars2009Accident.csv')\n",
    "df08 = pd.read_csv(r'C:\\Users\\AP\\Desktop\\Fars2008Accident.csv')"
   ]
  },
  {
   "cell_type": "code",
   "execution_count": 3,
   "metadata": {},
   "outputs": [],
   "source": [
    "df17.dropna(inplace=True)\n",
    "df16.dropna(inplace=True)\n",
    "df15.dropna(inplace=True)\n",
    "df14.dropna(inplace=True)\n",
    "df13.dropna(inplace=True)\n",
    "df12.dropna(inplace=True)\n",
    "df11.dropna(inplace=True)\n",
    "df10.dropna(inplace=True)\n",
    "df09.dropna(inplace=True)\n",
    "df08.dropna(inplace=True)"
   ]
  },
  {
   "cell_type": "code",
   "execution_count": 4,
   "metadata": {},
   "outputs": [],
   "source": [
    "# Convert state number codes to names\n",
    "\n",
    "states = {1: 'Alabama', 2: 'Alaska', 4: 'Arizona', 5: 'Arkansas', \n",
    "          6: 'California', 8: 'Colorado', 9: 'Connecticut', 10: 'Delaware', \n",
    "          11: 'District of Columbia', 12: 'Florida', 13: 'Georgia', 15: 'Hawaii', \n",
    "          16: 'Idaho', 17: 'Illinois', 18: 'Indiana', 19: 'Iowa', 20: 'Kansas', \n",
    "          21: 'Kentucky', 22: 'Louisiana', 23: 'Maine', 24: 'Maryland', \n",
    "          25: 'Massachusetts', 26: 'Michigan', 27: 'Minnesota', \n",
    "          28: 'Mississippi', 29: 'Missouri', 30: 'Montana', 31: 'Nebraska', \n",
    "          32: 'Nevada', 33: 'New Hampshire', 34: 'New Jersey', 35: 'New Mexico', \n",
    "          36: 'New York', 37: 'North Carolina', 38: 'North Dakota', 39: 'Ohio', \n",
    "          40: 'Oklahoma', 41: 'Oregon', 42: 'Pennsylvania', 43: 'Puerto Rico', \n",
    "          44: 'Rhode Island', 45: 'South Carolina', 46: 'South Dakota', 47: 'Tennessee', \n",
    "          48: 'Texas', 49: 'Utah', 50: 'Vermont', 51: 'Virginia', 52: 'Virgin Islands', \n",
    "          53: 'Washington', 54: 'West Virginia', 55: 'Wisconsin', 56: 'Wyoming'}\n",
    "\n",
    "df17['STATE']=df17['STATE'].apply(lambda x: states[x])\n",
    "df16['STATE']=df16['STATE'].apply(lambda x: states[x])\n",
    "df15['STATE']=df15['STATE'].apply(lambda x: states[x])\n",
    "df14['STATE']=df14['STATE'].apply(lambda x: states[x])\n",
    "df13['STATE']=df13['STATE'].apply(lambda x: states[x])\n",
    "df12['STATE']=df12['STATE'].apply(lambda x: states[x])\n",
    "df11['STATE']=df11['STATE'].apply(lambda x: states[x])\n",
    "df10['STATE']=df10['STATE'].apply(lambda x: states[x])\n",
    "df09['STATE']=df09['STATE'].apply(lambda x: states[x])\n",
    "df08['STATE']=df08['STATE'].apply(lambda x: states[x])"
   ]
  },
  {
   "cell_type": "code",
   "execution_count": 5,
   "metadata": {},
   "outputs": [],
   "source": [
    "df17['YEAR']= '2017'\n",
    "df16['YEAR']= '2016'\n",
    "df15['YEAR']= '2015'\n",
    "df14['YEAR']= '2014'\n",
    "df13['YEAR']= '2013'\n",
    "df12['YEAR']= '2012'\n",
    "df11['YEAR']= '2011'\n",
    "df10['YEAR']= '2010'\n",
    "df09['YEAR']= '2009'\n",
    "df08['YEAR']= '2008'"
   ]
  },
  {
   "cell_type": "code",
   "execution_count": 6,
   "metadata": {},
   "outputs": [],
   "source": [
    "df = pd.concat([df17,df16,df15,df14,df13,df12,df11,df10,df09,df08], sort=True)"
   ]
  },
  {
   "cell_type": "code",
   "execution_count": 12,
   "metadata": {},
   "outputs": [],
   "source": [
    "df = df.loc[:, ['STATE', 'MONTH', 'YEAR', 'FATALS', 'DRUNK_DR']]"
   ]
  },
  {
   "cell_type": "code",
   "execution_count": 13,
   "metadata": {},
   "outputs": [],
   "source": [
    "df = df[df[\"STATE\"].isin(['Colorado', 'Connecticut', 'Georgia', 'Oregon', 'Texas', 'Washington'])]"
   ]
  },
  {
   "cell_type": "code",
   "execution_count": 15,
   "metadata": {},
   "outputs": [
    {
     "data": {
      "text/plain": [
       "['STATE',\n",
       " 'ST_CASE',\n",
       " 'VE_TOTAL',\n",
       " 'VE_FORMS',\n",
       " 'PVH_INVL',\n",
       " 'PEDS',\n",
       " 'PERNOTMVIT',\n",
       " 'PERMVIT',\n",
       " 'PERSONS',\n",
       " 'COUNTY',\n",
       " 'CITY',\n",
       " 'DAY',\n",
       " 'MONTH',\n",
       " 'YEAR',\n",
       " 'DAY_WEEK',\n",
       " 'HOUR',\n",
       " 'MINUTE',\n",
       " 'NHS',\n",
       " 'RUR_URB',\n",
       " 'FUNC_SYS',\n",
       " 'RD_OWNER',\n",
       " 'ROUTE',\n",
       " 'TWAY_ID',\n",
       " 'TWAY_ID2',\n",
       " 'MILEPT',\n",
       " 'LATITUDE',\n",
       " 'LONGITUD',\n",
       " 'SP_JUR',\n",
       " 'HARM_EV',\n",
       " 'MAN_COLL',\n",
       " 'RELJCT1',\n",
       " 'RELJCT2',\n",
       " 'TYP_INT',\n",
       " 'WRK_ZONE',\n",
       " 'REL_ROAD',\n",
       " 'LGT_COND',\n",
       " 'WEATHER1',\n",
       " 'WEATHER2',\n",
       " 'WEATHER',\n",
       " 'SCH_BUS',\n",
       " 'RAIL',\n",
       " 'NOT_HOUR',\n",
       " 'NOT_MIN',\n",
       " 'ARR_HOUR',\n",
       " 'ARR_MIN',\n",
       " 'HOSP_HR',\n",
       " 'HOSP_MN',\n",
       " 'CF1',\n",
       " 'CF2',\n",
       " 'CF3',\n",
       " 'FATALS',\n",
       " 'DRUNK_DR']"
      ]
     },
     "execution_count": 15,
     "metadata": {},
     "output_type": "execute_result"
    }
   ],
   "source": [
    "list(df17)"
   ]
  },
  {
   "cell_type": "code",
   "execution_count": null,
   "metadata": {},
   "outputs": [],
   "source": []
  }
 ],
 "metadata": {
  "kernelspec": {
   "display_name": "Python 3",
   "language": "python",
   "name": "python3"
  },
  "language_info": {
   "codemirror_mode": {
    "name": "ipython",
    "version": 3
   },
   "file_extension": ".py",
   "mimetype": "text/x-python",
   "name": "python",
   "nbconvert_exporter": "python",
   "pygments_lexer": "ipython3",
   "version": "3.7.2"
  }
 },
 "nbformat": 4,
 "nbformat_minor": 2
}
