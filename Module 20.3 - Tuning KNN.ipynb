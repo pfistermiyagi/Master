{
 "cells": [
  {
   "cell_type": "markdown",
   "metadata": {},
   "source": [
    "Let's say we work at a credit card company and we're trying to figure out if people are going to pay their bills on time. We have everyone's purchases, split into four main categories: groceries, dining out, utilities, and entertainment. What are some ways you might use KNN to create this model? What aspects of KNN would be useful? Write up your thoughts in submit a link below."
   ]
  },
  {
   "cell_type": "markdown",
   "metadata": {},
   "source": [
    "\n",
    "----------------------\n",
    "\n",
    "Target variable (binary): will people pay their bills on time\n",
    "\n",
    "Features (4 continuous): grocery purchases, dining out, utilities, entertainment\n",
    "\n",
    "Assuming you have the purchase history of all four categories going back fairly far, you could compare the current month's purchase levels to previous months (or different timeperiods), and checking to see if they paid their bill in those previous circumstances. It is helpful that all four features are continuous as KNN performs best with these kinds of variables. I think z-scores would be beneficial to normalize the data, and weighting the categories as well. Especially the utilites feature. The other three categories are purchases using the credit card itself. Most people don't pay their utility bill using their credit card. So, if they are paying their utilities bills on time, it could be an indicator that they have the money and motivation to pay the credit card. "
   ]
  }
 ],
 "metadata": {
  "kernelspec": {
   "display_name": "Python 3",
   "language": "python",
   "name": "python3"
  },
  "language_info": {
   "codemirror_mode": {
    "name": "ipython",
    "version": 3
   },
   "file_extension": ".py",
   "mimetype": "text/x-python",
   "name": "python",
   "nbconvert_exporter": "python",
   "pygments_lexer": "ipython3",
   "version": "3.7.2"
  }
 },
 "nbformat": 4,
 "nbformat_minor": 2
}
