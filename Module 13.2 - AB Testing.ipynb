{
 "cells": [
  {
   "cell_type": "markdown",
   "metadata": {},
   "source": [
    "Outline A/B Test for examples below."
   ]
  },
  {
   "cell_type": "markdown",
   "metadata": {},
   "source": [
    "1. Does a new supplement help people sleep better?\n",
    "\n",
    "Control: Placebo sleep supplement, empty capsules\n",
    "Test: Sleep supplement capsules\n",
    "\n",
    "Sample: 100 people with \n",
    "    All reported sleep problems\n",
    "    Varying ages\n",
    "    Similar daily activity levels\n",
    "    Similar diets\n",
    "    \n",
    "Hypothesis: Sleep supplement will improve sleep quality\n",
    "\n",
    "Outcome: Key metric - fall asleep faster\n",
    "\n",
    "Other measured variables: \n",
    "    Wake up less times throughout the night\n",
    "    Wake up more refreshed\n",
    "    Increased measured REM sleep"
   ]
  },
  {
   "cell_type": "markdown",
   "metadata": {},
   "source": [
    "2. Will new uniforms help a gym's business?\n",
    "\n",
    "Control: Employees wear gym clothes (no uniforms)\n",
    "Test: Employees wear uniforms\n",
    "\n",
    "Sample: Gym employees\n",
    "\n",
    "Hypothesis: Uniforms will increase business\n",
    "\n",
    "Outcome: Key metric - new gym memberships\n",
    "    Must factor in time of year (for example, increased memberships in January not due to uniforms)\n",
    "\n",
    "Other measured variables:\n",
    "    Frequency of current member visits per week or per month\n",
    "    Positive reviews/feedback from members"
   ]
  },
  {
   "cell_type": "markdown",
   "metadata": {},
   "source": [
    "3. Will a new homepage improve my online exotic pet rental business?\n",
    "\n",
    "Control: Current/previous homepage\n",
    "Test: New homepage\n",
    "\n",
    "Sample: Install new homepage on random days of the week for a month and temporarily revert back to old homepage in between\n",
    "\n",
    "Hypothesis: New homepage will increase pet rentals\n",
    "\n",
    "Outcome: Key metric - new pet rentals\n",
    "\n",
    "Other measured variables:\n",
    "    New customers\n",
    "    Previous customers repeat rental frequency"
   ]
  },
  {
   "cell_type": "markdown",
   "metadata": {},
   "source": [
    "4. If I put 'please read' in the email subject will more people read my emails?\n",
    "\n",
    "Control: No 'please read' in email subject line\n",
    "Test: Insert 'please read' in email subject line\n",
    "\n",
    "Sample: Subscribers to email newsletter\n",
    "\n",
    "Hypothesis: Inserting 'please read' in email subject line will increase email opens\n",
    "\n",
    "Outcome: Key metric - email opens\n",
    "\n",
    "Other measured variables:\n",
    "    Time between sent email and when email was opened\n",
    "    Clicks on links inside email"
   ]
  }
 ],
 "metadata": {
  "kernelspec": {
   "display_name": "Python 3",
   "language": "python",
   "name": "python3"
  },
  "language_info": {
   "codemirror_mode": {
    "name": "ipython",
    "version": 3
   },
   "file_extension": ".py",
   "mimetype": "text/x-python",
   "name": "python",
   "nbconvert_exporter": "python",
   "pygments_lexer": "ipython3",
   "version": "3.7.2"
  }
 },
 "nbformat": 4,
 "nbformat_minor": 2
}
