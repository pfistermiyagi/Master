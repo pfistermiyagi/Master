{
 "cells": [
  {
   "cell_type": "code",
   "execution_count": 7,
   "metadata": {},
   "outputs": [],
   "source": [
    "# import libraries\n",
    "import numpy as np\n",
    "import pandas as pd\n",
    "from sklearn import linear_model\n",
    "import matplotlib.pyplot as plt\n",
    "import statsmodels.api as sm\n",
    "import seaborn as sns\n",
    "from sklearn.model_selection import train_test_split\n",
    "from sklearn.metrics import mean_absolute_error\n",
    "from statsmodels.tools.eval_measures import mse, rmse\n",
    "from sklearn.linear_model import LinearRegression, LassoCV, RidgeCV, ElasticNetCV"
   ]
  },
  {
   "cell_type": "markdown",
   "metadata": {},
   "source": [
    "1. Load the houseprices data from Thinkful's database.\n",
    "2. Reimplement your model from the previous checkpoint.\n",
    "3. Try OLS, Lasso, Ridge, and ElasticNet regression using the same model specification. This time, you need to do k-fold cross-validation to choose the best hyperparameter values for your models. Which model is the best? Why?"
   ]
  },
  {
   "cell_type": "code",
   "execution_count": 2,
   "metadata": {},
   "outputs": [],
   "source": [
    "# import dataset\n",
    "df = pd.read_csv(r'C:\\Users\\AP\\Downloads\\house prices.csv')\n",
    "\n",
    "# columns to lower case\n",
    "df.columns = map(str.lower, df.columns)\n",
    "\n",
    "# list/number of numerical columns\n",
    "num_col = df.select_dtypes(['int64', 'float64']).columns\n",
    "\n",
    "# list/number of alpha columns\n",
    "alpha_col = df.select_dtypes(['object']).columns\n",
    "\n",
    "# convert alpha features to binary\n",
    "df['mszoning'] = pd.get_dummies(df.mszoning, drop_first=True)\n",
    "df['neighborhood'] = pd.get_dummies(df.neighborhood, drop_first=True)\n",
    "df['exterior1st'] = pd.get_dummies(df.exterior1st, drop_first=True)"
   ]
  },
  {
   "cell_type": "code",
   "execution_count": 10,
   "metadata": {},
   "outputs": [
    {
     "name": "stderr",
     "output_type": "stream",
     "text": [
      "c:\\users\\ap\\appdata\\local\\programs\\python\\python37-32\\lib\\site-packages\\numpy\\core\\fromnumeric.py:2389: FutureWarning: Method .ptp is deprecated and will be removed in a future version. Use numpy.ptp instead.\n",
      "  return ptp(axis=axis, out=out, **kwargs)\n"
     ]
    },
    {
     "data": {
      "text/html": [
       "<table class=\"simpletable\">\n",
       "<caption>OLS Regression Results</caption>\n",
       "<tr>\n",
       "  <th>Dep. Variable:</th>        <td>saleprice</td>    <th>  R-squared:         </th> <td>   0.805</td>\n",
       "</tr>\n",
       "<tr>\n",
       "  <th>Model:</th>                   <td>OLS</td>       <th>  Adj. R-squared:    </th> <td>   0.804</td>\n",
       "</tr>\n",
       "<tr>\n",
       "  <th>Method:</th>             <td>Least Squares</td>  <th>  F-statistic:       </th> <td>   685.0</td>\n",
       "</tr>\n",
       "<tr>\n",
       "  <th>Date:</th>             <td>Wed, 25 Sep 2019</td> <th>  Prob (F-statistic):</th>  <td>  0.00</td> \n",
       "</tr>\n",
       "<tr>\n",
       "  <th>Time:</th>                 <td>16:31:00</td>     <th>  Log-Likelihood:    </th> <td>  371.53</td>\n",
       "</tr>\n",
       "<tr>\n",
       "  <th>No. Observations:</th>      <td>  1168</td>      <th>  AIC:               </th> <td>  -727.1</td>\n",
       "</tr>\n",
       "<tr>\n",
       "  <th>Df Residuals:</th>          <td>  1160</td>      <th>  BIC:               </th> <td>  -686.6</td>\n",
       "</tr>\n",
       "<tr>\n",
       "  <th>Df Model:</th>              <td>     7</td>      <th>                     </th>     <td> </td>   \n",
       "</tr>\n",
       "<tr>\n",
       "  <th>Covariance Type:</th>      <td>nonrobust</td>    <th>                     </th>     <td> </td>   \n",
       "</tr>\n",
       "</table>\n",
       "<table class=\"simpletable\">\n",
       "<tr>\n",
       "        <td></td>          <th>coef</th>     <th>std err</th>      <th>t</th>      <th>P>|t|</th>  <th>[0.025</th>    <th>0.975]</th>  \n",
       "</tr>\n",
       "<tr>\n",
       "  <th>const</th>        <td>   10.0468</td> <td>    0.060</td> <td>  168.548</td> <td> 0.000</td> <td>    9.930</td> <td>   10.164</td>\n",
       "</tr>\n",
       "<tr>\n",
       "  <th>overallqual</th>  <td>    0.2043</td> <td>    0.010</td> <td>   20.799</td> <td> 0.000</td> <td>    0.185</td> <td>    0.224</td>\n",
       "</tr>\n",
       "<tr>\n",
       "  <th>grlivarea</th>    <td> 6.561e-05</td> <td> 2.02e-05</td> <td>    3.245</td> <td> 0.001</td> <td> 2.59e-05</td> <td>    0.000</td>\n",
       "</tr>\n",
       "<tr>\n",
       "  <th>garagecars</th>   <td>    0.1205</td> <td>    0.009</td> <td>   13.362</td> <td> 0.000</td> <td>    0.103</td> <td>    0.138</td>\n",
       "</tr>\n",
       "<tr>\n",
       "  <th>mszoning</th>     <td>    0.0358</td> <td>    0.025</td> <td>    1.438</td> <td> 0.151</td> <td>   -0.013</td> <td>    0.085</td>\n",
       "</tr>\n",
       "<tr>\n",
       "  <th>neighborhood</th> <td>   -0.1308</td> <td>    0.125</td> <td>   -1.044</td> <td> 0.297</td> <td>   -0.376</td> <td>    0.115</td>\n",
       "</tr>\n",
       "<tr>\n",
       "  <th>exterior1st</th>  <td>   4.8e-16</td> <td> 4.85e-16</td> <td>    0.989</td> <td> 0.323</td> <td>-4.72e-16</td> <td> 1.43e-15</td>\n",
       "</tr>\n",
       "<tr>\n",
       "  <th>totalsf</th>      <td>    0.0004</td> <td> 2.76e-05</td> <td>   13.153</td> <td> 0.000</td> <td>    0.000</td> <td>    0.000</td>\n",
       "</tr>\n",
       "<tr>\n",
       "  <th>int_over_sf</th>  <td>-3.156e-05</td> <td> 3.21e-06</td> <td>   -9.846</td> <td> 0.000</td> <td>-3.78e-05</td> <td>-2.53e-05</td>\n",
       "</tr>\n",
       "</table>\n",
       "<table class=\"simpletable\">\n",
       "<tr>\n",
       "  <th>Omnibus:</th>       <td>334.265</td> <th>  Durbin-Watson:     </th> <td>   1.878</td>\n",
       "</tr>\n",
       "<tr>\n",
       "  <th>Prob(Omnibus):</th> <td> 0.000</td>  <th>  Jarque-Bera (JB):  </th> <td>1630.120</td>\n",
       "</tr>\n",
       "<tr>\n",
       "  <th>Skew:</th>          <td>-1.249</td>  <th>  Prob(JB):          </th> <td>    0.00</td>\n",
       "</tr>\n",
       "<tr>\n",
       "  <th>Kurtosis:</th>      <td> 8.221</td>  <th>  Cond. No.          </th> <td>4.02e+21</td>\n",
       "</tr>\n",
       "</table><br/><br/>Warnings:<br/>[1] Standard Errors assume that the covariance matrix of the errors is correctly specified.<br/>[2] The smallest eigenvalue is 2.56e-32. This might indicate that there are<br/>strong multicollinearity problems or that the design matrix is singular."
      ],
      "text/plain": [
       "<class 'statsmodels.iolib.summary.Summary'>\n",
       "\"\"\"\n",
       "                            OLS Regression Results                            \n",
       "==============================================================================\n",
       "Dep. Variable:              saleprice   R-squared:                       0.805\n",
       "Model:                            OLS   Adj. R-squared:                  0.804\n",
       "Method:                 Least Squares   F-statistic:                     685.0\n",
       "Date:                Wed, 25 Sep 2019   Prob (F-statistic):               0.00\n",
       "Time:                        16:31:00   Log-Likelihood:                 371.53\n",
       "No. Observations:                1168   AIC:                            -727.1\n",
       "Df Residuals:                    1160   BIC:                            -686.6\n",
       "Df Model:                           7                                         \n",
       "Covariance Type:            nonrobust                                         \n",
       "================================================================================\n",
       "                   coef    std err          t      P>|t|      [0.025      0.975]\n",
       "--------------------------------------------------------------------------------\n",
       "const           10.0468      0.060    168.548      0.000       9.930      10.164\n",
       "overallqual      0.2043      0.010     20.799      0.000       0.185       0.224\n",
       "grlivarea     6.561e-05   2.02e-05      3.245      0.001    2.59e-05       0.000\n",
       "garagecars       0.1205      0.009     13.362      0.000       0.103       0.138\n",
       "mszoning         0.0358      0.025      1.438      0.151      -0.013       0.085\n",
       "neighborhood    -0.1308      0.125     -1.044      0.297      -0.376       0.115\n",
       "exterior1st     4.8e-16   4.85e-16      0.989      0.323   -4.72e-16    1.43e-15\n",
       "totalsf          0.0004   2.76e-05     13.153      0.000       0.000       0.000\n",
       "int_over_sf  -3.156e-05   3.21e-06     -9.846      0.000   -3.78e-05   -2.53e-05\n",
       "==============================================================================\n",
       "Omnibus:                      334.265   Durbin-Watson:                   1.878\n",
       "Prob(Omnibus):                  0.000   Jarque-Bera (JB):             1630.120\n",
       "Skew:                          -1.249   Prob(JB):                         0.00\n",
       "Kurtosis:                       8.221   Cond. No.                     4.02e+21\n",
       "==============================================================================\n",
       "\n",
       "Warnings:\n",
       "[1] Standard Errors assume that the covariance matrix of the errors is correctly specified.\n",
       "[2] The smallest eigenvalue is 2.56e-32. This might indicate that there are\n",
       "strong multicollinearity problems or that the design matrix is singular.\n",
       "\"\"\""
      ]
     },
     "execution_count": 10,
     "metadata": {},
     "output_type": "execute_result"
    }
   ],
   "source": [
    "# create totalsf variable\n",
    "df['totalsf'] = df['totalbsmtsf'] + df['1stflrsf'] + df['2ndflrsf']\n",
    "\n",
    "# create interaction variable\n",
    "df['int_over_sf'] = df['totalsf'] * df['overallqual']\n",
    "\n",
    "# Y is the target variable\n",
    "Y = np.log1p(df.saleprice)\n",
    "# X is the feature set\n",
    "X = df[['overallqual', 'grlivarea', 'garagecars', 'mszoning', 'neighborhood', 'exterior1st', 'totalsf', 'int_over_sf']]\n",
    "\n",
    "X = sm.add_constant(X)\n",
    "\n",
    "X_train, X_test, y_train, y_test = train_test_split(X, Y, test_size = 0.2, random_state = 465)\n",
    "\n",
    "results = sm.OLS(y_train, X_train).fit()\n",
    "\n",
    "alphas = [np.power(10.0,p) for p in np.arange(-10,40,1)]\n",
    "\n",
    "results.summary()"
   ]
  },
  {
   "cell_type": "code",
   "execution_count": 8,
   "metadata": {},
   "outputs": [
    {
     "name": "stdout",
     "output_type": "stream",
     "text": [
      "R-squared of model in training set: 0.8051956214887739\n",
      "-----Test set statistics-----\n",
      "R-squared of model in test set: 0.7978443814077518\n",
      "Mean absolute error prediction: 0.13326851158756162\n",
      "Mean squared error prediction: 0.03248165614363869\n",
      "Root mean squared error prediction: 0.18022667988851898\n",
      "Mean absolute percentage error prediction: 1.1108088717754452\n"
     ]
    }
   ],
   "source": [
    "lrm = LinearRegression()\n",
    "\n",
    "lrm.fit(X_train, y_train)\n",
    "\n",
    "# We are making predictions here\n",
    "y_preds_train = lrm.predict(X_train)\n",
    "y_preds_test = lrm.predict(X_test)\n",
    "\n",
    "print(\"R-squared of model in training set: {}\".format(lrm.score(X_train, y_train)))\n",
    "print(\"-----Test set statistics-----\")\n",
    "print(\"R-squared of model in test set: {}\".format(lrm.score(X_test, y_test)))\n",
    "print(\"Mean absolute error prediction: {}\".format(mean_absolute_error(y_test, y_preds_test)))\n",
    "print(\"Mean squared error prediction: {}\".format(mse(y_test, y_preds_test)))\n",
    "print(\"Root mean squared error prediction: {}\".format(rmse(y_test, y_preds_test)))\n",
    "print(\"Mean absolute percentage error prediction: {}\".format(np.mean(np.abs((y_test - y_preds_test) / y_test)) * 100))"
   ]
  },
  {
   "cell_type": "code",
   "execution_count": 11,
   "metadata": {},
   "outputs": [
    {
     "name": "stdout",
     "output_type": "stream",
     "text": [
      "Best alpha value is: 1e-10\n",
      "R-squared of the model in training set is: 0.8051956214887737\n",
      "-----Test set statistics-----\n",
      "R-squared of the model in test set is: 0.7978443816171521\n",
      "Mean absolute error of the prediction is: 0.1332685115486375\n",
      "Mean squared error of the prediction is: 0.032481656109993\n",
      "Root mean squared error of the prediction is: 0.18022667979517626\n",
      "Mean absolute percentage error of the prediction is: 1.1108088714556057\n"
     ]
    }
   ],
   "source": [
    "lasso_cv = LassoCV(alphas=alphas, cv=5)\n",
    "\n",
    "lasso_cv.fit(X_train, y_train)\n",
    "\n",
    "# We are making predictions here\n",
    "y_preds_train = lasso_cv.predict(X_train)\n",
    "y_preds_test = lasso_cv.predict(X_test)\n",
    "\n",
    "print(\"Best alpha value is: {}\".format(lasso_cv.alpha_))\n",
    "print(\"R-squared of the model in training set is: {}\".format(lasso_cv.score(X_train, y_train)))\n",
    "print(\"-----Test set statistics-----\")\n",
    "print(\"R-squared of the model in test set is: {}\".format(lasso_cv.score(X_test, y_test)))\n",
    "print(\"Mean absolute error of the prediction is: {}\".format(mean_absolute_error(y_test, y_preds_test)))\n",
    "print(\"Mean squared error of the prediction is: {}\".format(mse(y_test, y_preds_test)))\n",
    "print(\"Root mean squared error of the prediction is: {}\".format(rmse(y_test, y_preds_test)))\n",
    "print(\"Mean absolute percentage error of the prediction is: {}\".format(np.mean(np.abs((y_test - y_preds_test) / y_test)) * 100))"
   ]
  },
  {
   "cell_type": "code",
   "execution_count": 12,
   "metadata": {},
   "outputs": [
    {
     "name": "stderr",
     "output_type": "stream",
     "text": [
      "c:\\users\\ap\\appdata\\local\\programs\\python\\python37-32\\lib\\site-packages\\sklearn\\linear_model\\ridge.py:147: LinAlgWarning: Ill-conditioned matrix (rcond=1.25788e-21): result may not be accurate.\n",
      "  overwrite_a=True).T\n",
      "c:\\users\\ap\\appdata\\local\\programs\\python\\python37-32\\lib\\site-packages\\sklearn\\linear_model\\ridge.py:147: LinAlgWarning: Ill-conditioned matrix (rcond=1.22466e-21): result may not be accurate.\n",
      "  overwrite_a=True).T\n",
      "c:\\users\\ap\\appdata\\local\\programs\\python\\python37-32\\lib\\site-packages\\sklearn\\linear_model\\ridge.py:147: LinAlgWarning: Ill-conditioned matrix (rcond=1.24472e-21): result may not be accurate.\n",
      "  overwrite_a=True).T\n",
      "c:\\users\\ap\\appdata\\local\\programs\\python\\python37-32\\lib\\site-packages\\sklearn\\linear_model\\ridge.py:147: LinAlgWarning: Ill-conditioned matrix (rcond=1.41106e-21): result may not be accurate.\n",
      "  overwrite_a=True).T\n",
      "c:\\users\\ap\\appdata\\local\\programs\\python\\python37-32\\lib\\site-packages\\sklearn\\linear_model\\ridge.py:147: LinAlgWarning: Ill-conditioned matrix (rcond=1.15506e-21): result may not be accurate.\n",
      "  overwrite_a=True).T\n",
      "c:\\users\\ap\\appdata\\local\\programs\\python\\python37-32\\lib\\site-packages\\sklearn\\linear_model\\ridge.py:147: LinAlgWarning: Ill-conditioned matrix (rcond=1.25788e-20): result may not be accurate.\n",
      "  overwrite_a=True).T\n",
      "c:\\users\\ap\\appdata\\local\\programs\\python\\python37-32\\lib\\site-packages\\sklearn\\linear_model\\ridge.py:147: LinAlgWarning: Ill-conditioned matrix (rcond=1.22466e-20): result may not be accurate.\n",
      "  overwrite_a=True).T\n",
      "c:\\users\\ap\\appdata\\local\\programs\\python\\python37-32\\lib\\site-packages\\sklearn\\linear_model\\ridge.py:147: LinAlgWarning: Ill-conditioned matrix (rcond=1.24472e-20): result may not be accurate.\n",
      "  overwrite_a=True).T\n",
      "c:\\users\\ap\\appdata\\local\\programs\\python\\python37-32\\lib\\site-packages\\sklearn\\linear_model\\ridge.py:147: LinAlgWarning: Ill-conditioned matrix (rcond=1.41106e-20): result may not be accurate.\n",
      "  overwrite_a=True).T\n",
      "c:\\users\\ap\\appdata\\local\\programs\\python\\python37-32\\lib\\site-packages\\sklearn\\linear_model\\ridge.py:147: LinAlgWarning: Ill-conditioned matrix (rcond=1.15506e-20): result may not be accurate.\n",
      "  overwrite_a=True).T\n",
      "c:\\users\\ap\\appdata\\local\\programs\\python\\python37-32\\lib\\site-packages\\sklearn\\linear_model\\ridge.py:147: LinAlgWarning: Ill-conditioned matrix (rcond=1.25788e-19): result may not be accurate.\n",
      "  overwrite_a=True).T\n",
      "c:\\users\\ap\\appdata\\local\\programs\\python\\python37-32\\lib\\site-packages\\sklearn\\linear_model\\ridge.py:147: LinAlgWarning: Ill-conditioned matrix (rcond=1.22466e-19): result may not be accurate.\n",
      "  overwrite_a=True).T\n",
      "c:\\users\\ap\\appdata\\local\\programs\\python\\python37-32\\lib\\site-packages\\sklearn\\linear_model\\ridge.py:147: LinAlgWarning: Ill-conditioned matrix (rcond=1.24472e-19): result may not be accurate.\n",
      "  overwrite_a=True).T\n",
      "c:\\users\\ap\\appdata\\local\\programs\\python\\python37-32\\lib\\site-packages\\sklearn\\linear_model\\ridge.py:147: LinAlgWarning: Ill-conditioned matrix (rcond=1.41106e-19): result may not be accurate.\n",
      "  overwrite_a=True).T\n",
      "c:\\users\\ap\\appdata\\local\\programs\\python\\python37-32\\lib\\site-packages\\sklearn\\linear_model\\ridge.py:147: LinAlgWarning: Ill-conditioned matrix (rcond=1.15506e-19): result may not be accurate.\n",
      "  overwrite_a=True).T\n",
      "c:\\users\\ap\\appdata\\local\\programs\\python\\python37-32\\lib\\site-packages\\sklearn\\linear_model\\ridge.py:147: LinAlgWarning: Ill-conditioned matrix (rcond=1.25788e-18): result may not be accurate.\n",
      "  overwrite_a=True).T\n",
      "c:\\users\\ap\\appdata\\local\\programs\\python\\python37-32\\lib\\site-packages\\sklearn\\linear_model\\ridge.py:147: LinAlgWarning: Ill-conditioned matrix (rcond=1.22466e-18): result may not be accurate.\n",
      "  overwrite_a=True).T\n",
      "c:\\users\\ap\\appdata\\local\\programs\\python\\python37-32\\lib\\site-packages\\sklearn\\linear_model\\ridge.py:147: LinAlgWarning: Ill-conditioned matrix (rcond=1.24472e-18): result may not be accurate.\n",
      "  overwrite_a=True).T\n",
      "c:\\users\\ap\\appdata\\local\\programs\\python\\python37-32\\lib\\site-packages\\sklearn\\linear_model\\ridge.py:147: LinAlgWarning: Ill-conditioned matrix (rcond=1.41106e-18): result may not be accurate.\n",
      "  overwrite_a=True).T\n",
      "c:\\users\\ap\\appdata\\local\\programs\\python\\python37-32\\lib\\site-packages\\sklearn\\linear_model\\ridge.py:147: LinAlgWarning: Ill-conditioned matrix (rcond=1.15506e-18): result may not be accurate.\n",
      "  overwrite_a=True).T\n",
      "c:\\users\\ap\\appdata\\local\\programs\\python\\python37-32\\lib\\site-packages\\sklearn\\linear_model\\ridge.py:147: LinAlgWarning: Ill-conditioned matrix (rcond=1.25788e-17): result may not be accurate.\n",
      "  overwrite_a=True).T\n",
      "c:\\users\\ap\\appdata\\local\\programs\\python\\python37-32\\lib\\site-packages\\sklearn\\linear_model\\ridge.py:147: LinAlgWarning: Ill-conditioned matrix (rcond=1.22466e-17): result may not be accurate.\n",
      "  overwrite_a=True).T\n",
      "c:\\users\\ap\\appdata\\local\\programs\\python\\python37-32\\lib\\site-packages\\sklearn\\linear_model\\ridge.py:147: LinAlgWarning: Ill-conditioned matrix (rcond=1.24472e-17): result may not be accurate.\n",
      "  overwrite_a=True).T\n",
      "c:\\users\\ap\\appdata\\local\\programs\\python\\python37-32\\lib\\site-packages\\sklearn\\linear_model\\ridge.py:147: LinAlgWarning: Ill-conditioned matrix (rcond=1.41106e-17): result may not be accurate.\n",
      "  overwrite_a=True).T\n",
      "c:\\users\\ap\\appdata\\local\\programs\\python\\python37-32\\lib\\site-packages\\sklearn\\linear_model\\ridge.py:147: LinAlgWarning: Ill-conditioned matrix (rcond=1.15506e-17): result may not be accurate.\n",
      "  overwrite_a=True).T\n"
     ]
    },
    {
     "name": "stdout",
     "output_type": "stream",
     "text": [
      "Best alpha value is: 1e-10\n",
      "R-squared of the model in training set is: 0.8051956214887739\n",
      "-----Test set statistics-----\n",
      "R-squared of the model in test set is: 0.7978443814077774\n",
      "Mean absolute error of the prediction is: 0.13326851158756314\n",
      "Mean squared error of the prediction is: 0.0324816561436346\n",
      "Root mean squared error of the prediction is: 0.18022667988850763\n",
      "Mean absolute percentage error of the prediction is: 1.1108088717754643\n"
     ]
    },
    {
     "name": "stderr",
     "output_type": "stream",
     "text": [
      "c:\\users\\ap\\appdata\\local\\programs\\python\\python37-32\\lib\\site-packages\\sklearn\\model_selection\\_search.py:814: DeprecationWarning: The default of the `iid` parameter will change from True to False in version 0.22 and will be removed in 0.24. This will change numeric results when test-set sizes are unequal.\n",
      "  DeprecationWarning)\n",
      "c:\\users\\ap\\appdata\\local\\programs\\python\\python37-32\\lib\\site-packages\\sklearn\\linear_model\\ridge.py:147: LinAlgWarning: Ill-conditioned matrix (rcond=1.00251e-21): result may not be accurate.\n",
      "  overwrite_a=True).T\n"
     ]
    }
   ],
   "source": [
    "ridge_cv = RidgeCV(alphas=alphas, cv=5)\n",
    "\n",
    "ridge_cv.fit(X_train, y_train)\n",
    "\n",
    "# We are making predictions here\n",
    "y_preds_train = ridge_cv.predict(X_train)\n",
    "y_preds_test = ridge_cv.predict(X_test)\n",
    "\n",
    "print(\"Best alpha value is: {}\".format(ridge_cv.alpha_))\n",
    "print(\"R-squared of the model in training set is: {}\".format(ridge_cv.score(X_train, y_train)))\n",
    "print(\"-----Test set statistics-----\")\n",
    "print(\"R-squared of the model in test set is: {}\".format(ridge_cv.score(X_test, y_test)))\n",
    "print(\"Mean absolute error of the prediction is: {}\".format(mean_absolute_error(y_test, y_preds_test)))\n",
    "print(\"Mean squared error of the prediction is: {}\".format(mse(y_test, y_preds_test)))\n",
    "print(\"Root mean squared error of the prediction is: {}\".format(rmse(y_test, y_preds_test)))\n",
    "print(\"Mean absolute percentage error of the prediction is: {}\".format(np.mean(np.abs((y_test - y_preds_test) / y_test)) * 100))"
   ]
  },
  {
   "cell_type": "code",
   "execution_count": 13,
   "metadata": {},
   "outputs": [
    {
     "name": "stdout",
     "output_type": "stream",
     "text": [
      "Best alpha value is: 1e-10\n",
      "R-squared of the model in training set is: 0.8051956214887739\n",
      "-----Test set statistics-----\n",
      "R-squared of the model in test set is: 0.7978443815290192\n",
      "Mean absolute error of the prediction is: 0.1332685115634973\n",
      "Mean squared error of the prediction is: 0.03248165612415391\n",
      "Root mean squared error of the prediction is: 0.18022667983446267\n",
      "Mean absolute percentage error of the prediction is: 1.1108088715771247\n"
     ]
    }
   ],
   "source": [
    "elasticnet_cv = ElasticNetCV(alphas=alphas, cv=5)\n",
    "\n",
    "elasticnet_cv.fit(X_train, y_train)\n",
    "\n",
    "# We are making predictions here\n",
    "y_preds_train = elasticnet_cv.predict(X_train)\n",
    "y_preds_test = elasticnet_cv.predict(X_test)\n",
    "\n",
    "print(\"Best alpha value is: {}\".format(elasticnet_cv.alpha_))\n",
    "print(\"R-squared of the model in training set is: {}\".format(elasticnet_cv.score(X_train, y_train)))\n",
    "print(\"-----Test set statistics-----\")\n",
    "print(\"R-squared of the model in test set is: {}\".format(elasticnet_cv.score(X_test, y_test)))\n",
    "print(\"Mean absolute error of the prediction is: {}\".format(mean_absolute_error(y_test, y_preds_test)))\n",
    "print(\"Mean squared error of the prediction is: {}\".format(mse(y_test, y_preds_test)))\n",
    "print(\"Root mean squared error of the prediction is: {}\".format(rmse(y_test, y_preds_test)))\n",
    "print(\"Mean absolute percentage error of the prediction is: {}\".format(np.mean(np.abs((y_test - y_preds_test) / y_test)) * 100))"
   ]
  },
  {
   "cell_type": "markdown",
   "metadata": {},
   "source": [
    "All 4 models performed the same?? Cross validation??"
   ]
  }
 ],
 "metadata": {
  "kernelspec": {
   "display_name": "Python 3",
   "language": "python",
   "name": "python3"
  },
  "language_info": {
   "codemirror_mode": {
    "name": "ipython",
    "version": 3
   },
   "file_extension": ".py",
   "mimetype": "text/x-python",
   "name": "python",
   "nbconvert_exporter": "python",
   "pygments_lexer": "ipython3",
   "version": "3.7.2"
  }
 },
 "nbformat": 4,
 "nbformat_minor": 2
}
