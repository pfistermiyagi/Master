{
 "cells": [
  {
   "cell_type": "markdown",
   "metadata": {},
   "source": [
    "# Final Capstone Proposal  \n",
    "Adam Pfister | December 10, 2019  \n",
    "\n",
    "### What is the problem you are attempting to solve?  \n",
    "The cannabis industry has been recreationally legal in many states, including my own state of Oregon, for over five years now. In the beginning, customers had few cannabis varieties, or strains, to choose from. Fast forward five years, and customers are overwhelmed with the number of choices available to them. Recreational cannabis strains now number in the thousands, and it is not uncommon for one store to offer over a hundred different varieties. It is like walking into a wine shop and having to choose between a hundred different bottles without any knowledge of wine or how intoxited you will become. I usually end up buying wine based on a cool looking label and hoping for the best.\n",
    "\n",
    "The problem is multiplied by the fact that cannabis in general is new for the majority of Americans. Ten years ago, the minority of cannabis enthusiasts had to resort to the black market, filled with shady people, shady growing practices, and inconsistent pricing. In today's open industry, sales and distrubtion are regulated and taxed, the product is tested by high tech scientific laboraties, and the price is ruled by the good old free market.  \n",
    "\n",
    "My mission, which started five years ago, is to help usher cannabis into the mainstream and remove the unjustified stigma it has been draped in for decades. To accomplish this, cannabis needs to be accessible and understandable to the general public. Instead of a customer walking into a cannabis store and blindly pointing at a board of a hundred strains, I want the customer to make educated choices about the things that they put into their bodies.  \n",
    "\n",
    "To accomplish this goal, this project will serve as a proof of concept for a cannabis strain recommender system. It will take customer input such as potency, desired effect, flavor, and rating, and output a recommended strain to choose. This way, the customer can more safely experiment and really dial in their preferred varieties of cannabis.\n",
    "\n",
    "\n",
    "\n",
    "### How is your solution valuable?  \n",
    "My solution is valuable for two reasons. One, it will help customers make educated decisions about the substances that they put into their bodies. No longer will people have to feel the anxiety of consuming cannabis and not knowing how it will affect them. Even though death by overdose has never happened, consuming too much is no fun and should be avoided if possible.  \n",
    "\n",
    "Two, this solution does not exist yet. The cannabis industry is so new that many common business practices and techniques in well-established industries have not had time to fully migrate into the cannabis industry. People are too busy starting businesses and trying to stay compliant with ever-changing cannabis laws to effectively and efficiently run their businesses to their full potential.\n",
    "\n",
    "This recommender system will educate customers, increase customer satisfaction and in turn brand loyalty, and break new ground in the cannabis industry.  \n",
    "\n",
    "### What is your data source and how will you access it?  \n",
    "There is no central database or access to cannabis strains accompanied by their laboratory testing results. Each shop only has access to the lab reports of the strains they carry. Accordingly, there is nowhere online to scrape this data. Public cannabis data is sparse.   \n",
    "\n",
    "This dataset is from Kaggle. It is only five months old and has zero notebooks attached to it yet, so this would potentially be the first. It is a combination of two datasets. The first was scraped from a cannabis website called Leafly, and includes simple variables such as strain name, effects, flavor, and rating. Cascadia Labs, a third party testing facility, took it upon themselves to add their own internal testing results to the Leafly set. This data includes test results for the chemical makeup of the 86 strains in the first dataset.    \n",
    "\n",
    "The final dataset is small, 85 columns by 86 rows. However, the quality of this data is superb and unique. Below is a summary:  \n",
    "- 86 different cannabis strains\n",
    "- General info columns like name, type, flavor, effects, rating, and description  \n",
    "- 25 cannabinoids and terpenes (chemical makeup of each strain)  \n",
    "- 13 effects ranging from giggly to relaxed  \n",
    "- 35 flavors ranging from blueberry to woody  \n",
    "\n",
    "### What techniques from the course do you anticipate using?  \n",
    "I intend to showcase all the skills I have learned throughout the course. This will be broken up into a five part approach. First, a deep exploratory data analysis will be performed including detailed visualizations and data comparisons/correlations. One thing that has always bugged me about the cannabis industry is that it seems to be stuck in the dark ages in many respects, being governed by hearsay and old wives tales. There is a plethora of uncharted territory when it comes to applying scientific study to the cannabis plant, and I want to explore that territory. \n",
    "\n",
    "Second will be feature engineering. It is possible that with the right interaction or combination of variables, the recommender system will perform more accurately. \n",
    "\n",
    "Third will be unsupervised learning, I will attempt to use clustering and dimensionality reduction techniques to gain further insights and simplify the data if it makes sense. I foresee experimenting with principal component analysis and explained variance, t-SNE, Kmeans, and DBSCAN to name a few.  \n",
    "\n",
    "The fourth step will be building the recommender system. This be accomplished using supervised learning techniques, including but not limited to, naive bayes, linear regression, support vector machines, and decision tree/random forest.  \n",
    "\n",
    "The fifth and final step will be to tie it all together using summary analysis, visualizations, and scientific conclusions.\n",
    "\n",
    "### What do you anticipate to be the biggest challenge you’ll face?  \n",
    "I believe my biggest challenge is timing. I only have a few weeks left before graduation, but fortunately I am able to dedicate 100% of my time and effort into this project's completion. I am fully committed to graduating on time.  \n",
    "\n",
    "The second challenge will be the size of the dataset. 86 instances is not a lot of data for the machine learning algorithms to ideally work on. However, I am passionate about this project regardless, for two reasons. One, my career for the past 5-6 years has been in the cannabis industry. My domain knowledge is expert level. I believe this will help me gain deep insights about the data despite the small sample size.  \n",
    "\n",
    "Two, this is the reality of the cannabis industry right now. It is new, and comprehensive datasets about it are rare. By doing projects like this, I hope to add valuable research to the currently lacking industry. \n",
    "\n",
    "\n",
    "\n",
    "Thank You  \n",
    "Adam Pfister"
   ]
  },
  {
   "cell_type": "code",
   "execution_count": null,
   "metadata": {},
   "outputs": [],
   "source": []
  }
 ],
 "metadata": {
  "kernelspec": {
   "display_name": "Python 3",
   "language": "python",
   "name": "python3"
  },
  "language_info": {
   "codemirror_mode": {
    "name": "ipython",
    "version": 3
   },
   "file_extension": ".py",
   "mimetype": "text/x-python",
   "name": "python",
   "nbconvert_exporter": "python",
   "pygments_lexer": "ipython3",
   "version": "3.7.2"
  }
 },
 "nbformat": 4,
 "nbformat_minor": 2
}
