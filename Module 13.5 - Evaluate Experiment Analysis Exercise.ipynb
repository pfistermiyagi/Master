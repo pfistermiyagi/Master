{
 "cells": [
  {
   "cell_type": "markdown",
   "metadata": {},
   "source": [
    "Read the following descriptions of an experiment and its analysis, identify the flaws in each, and describe what you would do to correct them."
   ]
  },
  {
   "cell_type": "markdown",
   "metadata": {},
   "source": [
    "1. The Sith Lords are concerned that their recruiting slogan, \"Give In to Your Anger,\" isn't very effective. Darth Vader develops an alternative slogan, \"Together We Can Rule the Galaxy.\" They compare the slogans on two groups of 50 captured droids each. In one group, Emperor Palpatine delivers the \"Anger\" slogan. In the other, Darth Vader presents the \"Together\" slogan. 20 droids convert to the Dark Side after hearing Palpatine's slogan, while only 5 droids convert after hearing Vader's. The Sith's data scientist concludes that \"Anger\" is a more effective slogan and should continue to be used.\n",
    "\n",
    "PROBLEM: The droids are getting a different person presenting each slogan. The fact that more droids converted after the \"Anger\" slogan may not be because of the slogan itself. It could be that the Emperor delivered his slogan with more intensity. Maybe he's scarier than Vader. Or more likeable. Maybe Vader doesn't command as much respect as the Emperor. There could be many other factors besides the actual content of the slogan.\n",
    "\n",
    "CORRECTION: To remove as much bias as possible, divide captured droids into 4 groups of 50, with Vader getting 2 groups and the Emperor getting two groups. Vader will test both slogans, one for each group, and the Emperor will test both slogans, again one for each group. This method will truly show the more popular slogan.\n",
    "\n"
   ]
  },
  {
   "cell_type": "markdown",
   "metadata": {},
   "source": [
    "2. In the past, the Jedi have had difficulty with public relations. They send two envoys, Jar Jar Binks and Mace Windu, to four friendly and four unfriendly planets respectively, with the goal of promoting favorable feelings toward the Jedi. Upon their return, the envoys learn that Jar Jar was much more effective than Windu: Over 75% of the people surveyed said their attitudes had become more favorable after speaking with Jar Jar, while only 65% said their attitudes had become more favorable after speaking with Windu. This makes Windu angry, because he is sure that he had a better success rate than Jar Jar on every planet. The Jedi choose Jar Jar to be their representative in the future.\n",
    "\n",
    "PROBLEM: Jar Jar had the advantage of visiting friendly planets, while Windu had the unfortunate disadvantage of visiting unfriendly planets, which would be harder to persuade. The fact that Windu was able to convert 65% of unfriendly planets in spite of the disadvantage, while Jar Jar only converted 75% of friendly planets, makes me think that Windu might actually be the more favorable representative.\n",
    "\n",
    "CORRECTION: Instead of one person getting 4 friendly planets and the other getting 4 unfriendly planets, each person gets 2 friendly and unfriendly planets. Neither would have the bias of visiting all friendly or all unfriendly planets.\n",
    "\n"
   ]
  },
  {
   "cell_type": "markdown",
   "metadata": {},
   "source": [
    "3. A company with work sites in five different countries has sent you data on employee satisfaction rates for workers in Human Resources and workers in Information Technology. Most HR workers are concentrated in three of the countries, while IT workers are equally distributed across worksites. The company requests a report on satisfaction for each job type. You calculate average job satisfaction for HR and for IT and present the report.\n",
    "\n",
    "PROBLEM: There could many other factors that affect job satisfaction besides the actual work. Location and environment of the workplace. What the commute is like. Company culture. The HR workers are not being fully represented in 2 of the countries. This could bias the report.\n",
    "\n",
    "CORRECTION: Normalize the data so that comarisons are on a more even plane.\n",
    "\n"
   ]
  },
  {
   "cell_type": "markdown",
   "metadata": {},
   "source": [
    "4. When people install the Happy Days Fitness Tracker app, they are asked to \"opt in\" to a data collection scheme where their level of physical activity data is automatically sent to the company for product research purposes. During your interview with the company, they tell you that the app is very effective because after installing the app, the data show that people's activity levels rise steadily.\n",
    "\n",
    "PROBLEM: Opting in requires an addition step. Most likely, the type of person opting in will typically be more motivated, experienced, and eager to show off their workout activites. People who are brand new to exercising may be more hesitant to share their data, so the date the company is getting could be more biased towards already active and experienced people.\n",
    "\n",
    "CORRECTION: Switch to an \"opt out\" framework. The company would presumably gather more varied data from a broader spectrum of people.\n",
    "\n"
   ]
  },
  {
   "cell_type": "markdown",
   "metadata": {},
   "source": [
    "5. To prevent cheating, a teacher writes three versions of a test. She stacks the three versions together, first all copies of Version A, then all copies of Version B, then all copies of Version C. As students arrive for the exam, each student takes a test. When grading the test, the teacher finds that students who took Version B scored higher than students who took either Version A or Version C. She concludes from this that Version B is easier, and discards it.\n",
    "\n",
    "PROBLEM: There could be many factors affecting the overall scores besides test B being easier. Maybe the results were random. Maybe people who took test B actually cheated on the test. Maybe it had something to do with the seating arrangement of test B takers.\n",
    "\n",
    "CORRECTION: Instead of stacking all A's, B's, and C's in a row on top of each other, randomly stack them so there is no connection between students' arrival time and which test they took.\n",
    "\n"
   ]
  }
 ],
 "metadata": {
  "kernelspec": {
   "display_name": "Python 3",
   "language": "python",
   "name": "python3"
  },
  "language_info": {
   "codemirror_mode": {
    "name": "ipython",
    "version": 3
   },
   "file_extension": ".py",
   "mimetype": "text/x-python",
   "name": "python",
   "nbconvert_exporter": "python",
   "pygments_lexer": "ipython3",
   "version": "3.7.2"
  }
 },
 "nbformat": 4,
 "nbformat_minor": 2
}
