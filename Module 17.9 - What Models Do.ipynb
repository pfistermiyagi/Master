{
 "cells": [
  {
   "cell_type": "markdown",
   "metadata": {},
   "source": [
    "1. Try to model the result of a coin toss. In your model, include any features that you think important in explaining the result. Discuss with your mentor about the pros and cons of adding too many features into your model."
   ]
  },
  {
   "cell_type": "markdown",
   "metadata": {},
   "source": [
    "- Weight of coin.\n",
    "- Width of spine of coin.\n",
    "- Force of spin.\n",
    "- Hardness/texture of landing surface.\n",
    "- Distance between coin flip and landing.\n",
    "- Angle of flip.\n",
    "- Friction from hand on flip.\n",
    "- Gravity."
   ]
  },
  {
   "cell_type": "markdown",
   "metadata": {},
   "source": [
    "--------------------------------\n",
    "\n",
    "2. If you ever used Netflix, you should already have realized that it provides some recommendations for you to watch. In data science, this is an example of the so-called recommendations systems. Read this nontechnical blog post of Netflix about how they model their recommendations systems. Then, derive the features they use in their recommendations engines and discuss what else can be incorporated into this model."
   ]
  },
  {
   "cell_type": "markdown",
   "metadata": {},
   "source": [
    "Netflix uses six variables in their proprietary algorithms:\n",
    "\n",
    "- your interactions with our service (such as your viewing history and how you rated other titles)\n",
    "\n",
    "- other members with similar tastes and preferences on our service\n",
    "\n",
    "- information about the titles, such as their genre, categories, actors, release year, etc.\n",
    "\n",
    "- time of day you watch\n",
    "\n",
    "- devices you are watching Netflix on\n",
    "\n",
    "- how long you watch\n",
    "\n",
    "Many other features could potentially be added, including, demographics of the user (age, location, etc.), how often they rate programs or write reviews on the service, total programs watched, how long they've been a member of Netflix."
   ]
  },
  {
   "cell_type": "code",
   "execution_count": null,
   "metadata": {},
   "outputs": [],
   "source": []
  }
 ],
 "metadata": {
  "kernelspec": {
   "display_name": "Python 3",
   "language": "python",
   "name": "python3"
  },
  "language_info": {
   "codemirror_mode": {
    "name": "ipython",
    "version": 3
   },
   "file_extension": ".py",
   "mimetype": "text/x-python",
   "name": "python",
   "nbconvert_exporter": "python",
   "pygments_lexer": "ipython3",
   "version": "3.7.2"
  }
 },
 "nbformat": 4,
 "nbformat_minor": 2
}
