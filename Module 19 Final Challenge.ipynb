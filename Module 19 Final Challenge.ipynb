{
 "cells": [
  {
   "cell_type": "markdown",
   "metadata": {},
   "source": [
    "# Module 19 - Final Challenge\n",
    "\n",
    "1. Load the houseprices data from Thinkful's database.\n",
    "2. Do data cleaning, exploratory data analysis, and feature engineering. You can use your previous work in this module. But make sure that your work is satisfactory.\n",
    "3. Now, split your data into train and test sets where 20% of the data resides in the test set.\n",
    "4. Build several linear regression models including Lasso, Ridge, or ElasticNet and train them in the training set. Use k-fold cross-validation to select the best hyperparameters if your models include one!\n",
    "5. Evaluate your best model on the test set."
   ]
  },
  {
   "cell_type": "code",
   "execution_count": 1,
   "metadata": {},
   "outputs": [],
   "source": [
    "# import libraries\n",
    "%matplotlib inline\n",
    "import numpy as np\n",
    "import pandas as pd\n",
    "import matplotlib.pyplot as plt\n",
    "import seaborn as sns\n",
    "import scipy\n",
    "import sklearn\n",
    "import statsmodels.api as sm\n",
    "from statsmodels.tsa.stattools import acf\n",
    "from statsmodels.tools.eval_measures import mse, rmse\n",
    "from sklearn.model_selection import cross_val_score\n",
    "from sklearn import linear_model\n",
    "from sklearn.linear_model import LinearRegression, LassoCV, RidgeCV, ElasticNetCV\n",
    "from sklearn.model_selection import train_test_split\n",
    "from sklearn.metrics import mean_absolute_error\n",
    "from sklearn.naive_bayes import BernoulliNB\n",
    "from sklearn import tree\n",
    "from IPython.display import Image\n",
    "import pydotplus"
   ]
  },
  {
   "cell_type": "code",
   "execution_count": 2,
   "metadata": {},
   "outputs": [],
   "source": [
    "# import dataset\n",
    "df = pd.read_csv(r'C:\\Users\\AP\\Downloads\\house prices.csv')\n",
    "\n",
    "# -----DATA CLEAN CONDENSED FROM PREVIOUS WORK ON SAME DATASET-----\n",
    "\n",
    "# columns to lower case\n",
    "df.columns = map(str.lower, df.columns)\n",
    "\n",
    "# create numerical column variable\n",
    "num_col = df.select_dtypes(['int64', 'float64']).columns\n",
    "\n",
    "# create alpha column variable\n",
    "alpha_col = df.select_dtypes(['object']).columns\n",
    "\n",
    "# convert alpha columns to binary\n",
    "df['mszoning'] = pd.get_dummies(df.mszoning, drop_first=True)\n",
    "df['neighborhood'] = pd.get_dummies(df.neighborhood, drop_first=True)\n",
    "df['exterior1st'] = pd.get_dummies(df.exterior1st, drop_first=True)\n",
    "\n",
    "# create interaction variable between basement, first, second floor sq ft\n",
    "df['totalsf'] = df.totalbsmtsf + df['1stflrsf'] + df['2ndflrsf']\n",
    "\n",
    "# create interaction variable between total sq ft and overall quality\n",
    "df['int_over_sf'] = df.totalsf * df.overallqual\n",
    "\n",
    "alphas = [100,1]"
   ]
  },
  {
   "cell_type": "code",
   "execution_count": 3,
   "metadata": {},
   "outputs": [
    {
     "name": "stdout",
     "output_type": "stream",
     "text": [
      "Train observations: 1168\n",
      "Test observations:  292\n"
     ]
    },
    {
     "name": "stderr",
     "output_type": "stream",
     "text": [
      "c:\\users\\ap\\appdata\\local\\programs\\python\\python37-32\\lib\\site-packages\\numpy\\core\\fromnumeric.py:2389: FutureWarning: Method .ptp is deprecated and will be removed in a future version. Use numpy.ptp instead.\n",
      "  return ptp(axis=axis, out=out, **kwargs)\n"
     ]
    },
    {
     "data": {
      "image/png": "[encoded data removed]",
      "text/plain": [
       "<Figure size 432x288 with 1 Axes>"
      ]
     },
     "metadata": {
      "needs_background": "light"
     },
     "output_type": "display_data"
    },
    {
     "data": {
      "text/html": [
       "<table class=\"simpletable\">\n",
       "<caption>OLS Regression Results</caption>\n",
       "<tr>\n",
       "  <th>Dep. Variable:</th>        <td>saleprice</td>    <th>  R-squared:         </th> <td>   0.821</td>\n",
       "</tr>\n",
       "<tr>\n",
       "  <th>Model:</th>                   <td>OLS</td>       <th>  Adj. R-squared:    </th> <td>   0.819</td>\n",
       "</tr>\n",
       "<tr>\n",
       "  <th>Method:</th>             <td>Least Squares</td>  <th>  F-statistic:       </th> <td>   757.7</td>\n",
       "</tr>\n",
       "<tr>\n",
       "  <th>Date:</th>             <td>Sat, 09 Nov 2019</td> <th>  Prob (F-statistic):</th>  <td>  0.00</td> \n",
       "</tr>\n",
       "<tr>\n",
       "  <th>Time:</th>                 <td>15:49:42</td>     <th>  Log-Likelihood:    </th> <td>  391.94</td>\n",
       "</tr>\n",
       "<tr>\n",
       "  <th>No. Observations:</th>      <td>  1168</td>      <th>  AIC:               </th> <td>  -767.9</td>\n",
       "</tr>\n",
       "<tr>\n",
       "  <th>Df Residuals:</th>          <td>  1160</td>      <th>  BIC:               </th> <td>  -727.4</td>\n",
       "</tr>\n",
       "<tr>\n",
       "  <th>Df Model:</th>              <td>     7</td>      <th>                     </th>     <td> </td>   \n",
       "</tr>\n",
       "<tr>\n",
       "  <th>Covariance Type:</th>      <td>nonrobust</td>    <th>                     </th>     <td> </td>   \n",
       "</tr>\n",
       "</table>\n",
       "<table class=\"simpletable\">\n",
       "<tr>\n",
       "        <td></td>          <th>coef</th>     <th>std err</th>      <th>t</th>      <th>P>|t|</th>  <th>[0.025</th>    <th>0.975]</th>  \n",
       "</tr>\n",
       "<tr>\n",
       "  <th>const</th>        <td>   10.3793</td> <td>    0.060</td> <td>  173.479</td> <td> 0.000</td> <td>   10.262</td> <td>   10.497</td>\n",
       "</tr>\n",
       "<tr>\n",
       "  <th>overallqual</th>  <td>    0.1429</td> <td>    0.010</td> <td>   14.145</td> <td> 0.000</td> <td>    0.123</td> <td>    0.163</td>\n",
       "</tr>\n",
       "<tr>\n",
       "  <th>grlivarea</th>    <td> 3.066e-05</td> <td> 2.04e-05</td> <td>    1.503</td> <td> 0.133</td> <td>-9.38e-06</td> <td> 7.07e-05</td>\n",
       "</tr>\n",
       "<tr>\n",
       "  <th>garagecars</th>   <td>    0.1049</td> <td>    0.009</td> <td>   11.674</td> <td> 0.000</td> <td>    0.087</td> <td>    0.122</td>\n",
       "</tr>\n",
       "<tr>\n",
       "  <th>mszoning</th>     <td>    0.0568</td> <td>    0.025</td> <td>    2.248</td> <td> 0.025</td> <td>    0.007</td> <td>    0.106</td>\n",
       "</tr>\n",
       "<tr>\n",
       "  <th>neighborhood</th> <td>   -0.0992</td> <td>    0.123</td> <td>   -0.806</td> <td> 0.420</td> <td>   -0.341</td> <td>    0.142</td>\n",
       "</tr>\n",
       "<tr>\n",
       "  <th>exterior1st</th>  <td>-3.351e-16</td> <td> 3.58e-16</td> <td>   -0.935</td> <td> 0.350</td> <td>-1.04e-15</td> <td> 3.68e-16</td>\n",
       "</tr>\n",
       "<tr>\n",
       "  <th>int_over_sf</th>  <td>-1.068e-05</td> <td> 3.36e-06</td> <td>   -3.179</td> <td> 0.002</td> <td>-1.73e-05</td> <td>-4.09e-06</td>\n",
       "</tr>\n",
       "<tr>\n",
       "  <th>totalsf</th>      <td>    0.0003</td> <td>  2.7e-05</td> <td>   10.319</td> <td> 0.000</td> <td>    0.000</td> <td>    0.000</td>\n",
       "</tr>\n",
       "</table>\n",
       "<table class=\"simpletable\">\n",
       "<tr>\n",
       "  <th>Omnibus:</th>       <td>453.805</td> <th>  Durbin-Watson:     </th> <td>   2.046</td>\n",
       "</tr>\n",
       "<tr>\n",
       "  <th>Prob(Omnibus):</th> <td> 0.000</td>  <th>  Jarque-Bera (JB):  </th> <td>3353.417</td>\n",
       "</tr>\n",
       "<tr>\n",
       "  <th>Skew:</th>          <td>-1.607</td>  <th>  Prob(JB):          </th> <td>    0.00</td>\n",
       "</tr>\n",
       "<tr>\n",
       "  <th>Kurtosis:</th>      <td>10.653</td>  <th>  Cond. No.          </th> <td>8.56e+21</td>\n",
       "</tr>\n",
       "</table><br/><br/>Warnings:<br/>[1] Standard Errors assume that the covariance matrix of the errors is correctly specified.<br/>[2] The smallest eigenvalue is 5.55e-33. This might indicate that there are<br/>strong multicollinearity problems or that the design matrix is singular."
      ],
      "text/plain": [
       "<class 'statsmodels.iolib.summary.Summary'>\n",
       "\"\"\"\n",
       "                            OLS Regression Results                            \n",
       "==============================================================================\n",
       "Dep. Variable:              saleprice   R-squared:                       0.821\n",
       "Model:                            OLS   Adj. R-squared:                  0.819\n",
       "Method:                 Least Squares   F-statistic:                     757.7\n",
       "Date:                Sat, 09 Nov 2019   Prob (F-statistic):               0.00\n",
       "Time:                        15:49:42   Log-Likelihood:                 391.94\n",
       "No. Observations:                1168   AIC:                            -767.9\n",
       "Df Residuals:                    1160   BIC:                            -727.4\n",
       "Df Model:                           7                                         \n",
       "Covariance Type:            nonrobust                                         \n",
       "================================================================================\n",
       "                   coef    std err          t      P>|t|      [0.025      0.975]\n",
       "--------------------------------------------------------------------------------\n",
       "const           10.3793      0.060    173.479      0.000      10.262      10.497\n",
       "overallqual      0.1429      0.010     14.145      0.000       0.123       0.163\n",
       "grlivarea     3.066e-05   2.04e-05      1.503      0.133   -9.38e-06    7.07e-05\n",
       "garagecars       0.1049      0.009     11.674      0.000       0.087       0.122\n",
       "mszoning         0.0568      0.025      2.248      0.025       0.007       0.106\n",
       "neighborhood    -0.0992      0.123     -0.806      0.420      -0.341       0.142\n",
       "exterior1st  -3.351e-16   3.58e-16     -0.935      0.350   -1.04e-15    3.68e-16\n",
       "int_over_sf  -1.068e-05   3.36e-06     -3.179      0.002   -1.73e-05   -4.09e-06\n",
       "totalsf          0.0003    2.7e-05     10.319      0.000       0.000       0.000\n",
       "==============================================================================\n",
       "Omnibus:                      453.805   Durbin-Watson:                   2.046\n",
       "Prob(Omnibus):                  0.000   Jarque-Bera (JB):             3353.417\n",
       "Skew:                          -1.607   Prob(JB):                         0.00\n",
       "Kurtosis:                      10.653   Cond. No.                     8.56e+21\n",
       "==============================================================================\n",
       "\n",
       "Warnings:\n",
       "[1] Standard Errors assume that the covariance matrix of the errors is correctly specified.\n",
       "[2] The smallest eigenvalue is 5.55e-33. This might indicate that there are\n",
       "strong multicollinearity problems or that the design matrix is singular.\n",
       "\"\"\""
      ]
     },
     "execution_count": 3,
     "metadata": {},
     "output_type": "execute_result"
    }
   ],
   "source": [
    "# OLS\n",
    "\n",
    "# target variable(log-transformed) and feature set\n",
    "Y = np.log1p(df.saleprice)\n",
    "X = df[['overallqual', \n",
    "        'grlivarea', \n",
    "        'garagecars', \n",
    "        'mszoning', \n",
    "        'neighborhood', \n",
    "        'exterior1st', \n",
    "        'int_over_sf', \n",
    "        'totalsf'\n",
    "        ]]\n",
    "\n",
    "# train/test split\n",
    "X_train, X_test, y_train, y_test = train_test_split(X, Y, test_size = 0.2, random_state = 3)\n",
    "\n",
    "# print train and test shape\n",
    "print('Train observations: {}'.format(X_train.shape[0]))\n",
    "print('Test observations:  {}'.format(X_test.shape[0]))\n",
    "\n",
    "# add constants\n",
    "X_train = sm.add_constant(X_train)\n",
    "X_test = sm.add_constant(X_test)\n",
    "\n",
    "# fit model\n",
    "results = sm.OLS(y_train, X_train).fit()\n",
    "\n",
    "# predict\n",
    "y_preds = results.predict(X_test)\n",
    "\n",
    "# scatterplot true vs predicted values\n",
    "plt.scatter(y_test, y_preds)\n",
    "plt.plot(y_test, y_test, color='r')\n",
    "plt.xlabel('True Values')\n",
    "plt.ylabel('Predicted Values')\n",
    "plt.title('House Prices: True and Predicted Values (OLS)')\n",
    "plt.show()\n",
    "\n",
    "# summary results\n",
    "results.summary()"
   ]
  },
  {
   "cell_type": "markdown",
   "metadata": {},
   "source": [
    "#### Observations\n",
    "- The model achieved an R-squared and adjusted R-squared accuracy score of 82%\n",
    "- There is one strange outlier where the model predicted an extremely high house price, but the true value is much lower\n",
    "- There are only three variables (overallqual, grlivarea, garagecars) with coefficient scores noticeably above zero. The p-values of these three variables are all zero, which indicates they are normally distributed.\n",
    "- The rest of the variables had coefficient scores of zero, which means they have essentially no effect on the target variable. Or they had high p-values, which indicates their distributions are not normally distributed.\n",
    "- However, when tinkering with the model I tried removing the underperforming features, but the model performed worse than the current iteration.\n",
    "- We will keep all the current features for use in models"
   ]
  },
  {
   "cell_type": "code",
   "execution_count": 6,
   "metadata": {},
   "outputs": [
    {
     "name": "stdout",
     "output_type": "stream",
     "text": [
      "Train observations: 1168\n",
      "Test observations:  292\n"
     ]
    },
    {
     "data": {
      "image/png": "[encoded data removed]",
      "text/plain": [
       "<Figure size 432x288 with 1 Axes>"
      ]
     },
     "metadata": {
      "needs_background": "light"
     },
     "output_type": "display_data"
    },
    {
     "name": "stdout",
     "output_type": "stream",
     "text": [
      "R-squared train set: 0.8205382119492894\n",
      "\n",
      "-----Test set statistics-----\n",
      "\n",
      "R-squared test set:  0.6844945995520325\n",
      "MAE:                 0.127014212340495\n",
      "MSE:                 0.04108646058936128\n",
      "RMSE:                0.20269795408282068\n",
      "MAPE:                1.059740004572927\n"
     ]
    }
   ],
   "source": [
    "# linear regression\n",
    "\n",
    "# target variable(log-transformed) and feature set\n",
    "Y = np.log1p(df.saleprice)\n",
    "X = df[['overallqual', \n",
    "        'grlivarea', \n",
    "        'garagecars', \n",
    "        'mszoning', \n",
    "        'neighborhood', \n",
    "        'exterior1st', \n",
    "        'int_over_sf', \n",
    "        'totalsf'\n",
    "        ]]\n",
    "\n",
    "# train/test split\n",
    "X_train, X_test, y_train, y_test = train_test_split(X, Y, test_size = 0.2, random_state = 3)\n",
    "\n",
    "# print train and test shape\n",
    "print('Train observations: {}'.format(X_train.shape[0]))\n",
    "print('Test observations:  {}'.format(X_test.shape[0]))\n",
    "\n",
    "# fit model\n",
    "lrm = LinearRegression()\n",
    "lrm.fit(X_train, y_train)\n",
    "\n",
    "# predict\n",
    "y_preds_train = lrm.predict(X_train)\n",
    "y_preds_test = lrm.predict(X_test)\n",
    "\n",
    "# scatterplot true vs predicted values\n",
    "plt.scatter(y_test, y_preds_test)\n",
    "plt.plot(y_preds_test, y_preds_test, color='r')\n",
    "plt.xlabel('True Values')\n",
    "plt.ylabel('Predicted Values')\n",
    "plt.title('House Prices: True and Predicted Values (LRM)')\n",
    "plt.show()\n",
    "\n",
    "# print summary statistics\n",
    "print('R-squared train set: {}'.format(lrm.score(X_train, y_train)))\n",
    "print(\"\")\n",
    "print('-----Test set statistics-----')\n",
    "print(\"\")\n",
    "print('R-squared test set:  {}'.format(lrm.score(X_test, y_test)))\n",
    "print('MAE:                 {}'.format(mean_absolute_error(y_test, y_preds_test)))\n",
    "print('MSE:                 {}'.format(mse(y_test, y_preds_test)))\n",
    "print('RMSE:                {}'.format(rmse(y_test, y_preds_test)))\n",
    "print('MAPE:                {}'.format(np.mean(np.abs((y_test - y_preds_test) / y_test)) * 100))"
   ]
  },
  {
   "cell_type": "markdown",
   "metadata": {},
   "source": [
    "#### Observations\n",
    "- Train set R-squared is 82%, same as the OLS model\n",
    "- Again, that same outlier is present \n",
    "- Test set adjusted R-squared is 68.5%, underperforming the previous OLS model\n",
    "- MAE, MSE, RMSE, and MAPE scores are all low"
   ]
  },
  {
   "cell_type": "code",
   "execution_count": 7,
   "metadata": {
    "scrolled": true
   },
   "outputs": [
    {
     "name": "stdout",
     "output_type": "stream",
     "text": [
      "Train observations: 1168\n",
      "Test observations:  292\n",
      "\n",
      "Best alpha value:    100\n",
      "R-squared train set: 0.6541252776377666\n",
      "\n",
      "-----Test set statistics-----\n",
      "\n",
      "R-squared test set:  0.7730559215066828\n",
      "MAE:                 0.14257142472924594\n",
      "MSE:                 0.03646457898517961\n",
      "RMSE:                0.1909570082117428\n",
      "MAPE:                1.190066466230031\n"
     ]
    }
   ],
   "source": [
    "# lasso CV\n",
    "\n",
    "# target variable(log-transformed) and feature set\n",
    "Y = np.log1p(df.saleprice)\n",
    "X = df[['overallqual', \n",
    "        'grlivarea', \n",
    "        'garagecars', \n",
    "        'totalsf', \n",
    "        'int_over_sf'\n",
    "        ]]\n",
    "\n",
    "# train/test split\n",
    "X_train, X_test, y_train, y_test = train_test_split(X, Y, test_size = 0.2, random_state = 465)\n",
    "\n",
    "# print train and test shape\n",
    "print('Train observations: {}'.format(X_train.shape[0]))\n",
    "print('Test observations:  {}'.format(X_test.shape[0]))\n",
    "print('')\n",
    "\n",
    "# fit model\n",
    "lasso_cv = LassoCV(alphas=alphas, cv=5)\n",
    "lasso_cv.fit(X_train, y_train)\n",
    "\n",
    "# predict\n",
    "y_preds_train = lasso_cv.predict(X_train)\n",
    "y_preds_test = lasso_cv.predict(X_test)\n",
    "\n",
    "# print summary statistics\n",
    "print('Best alpha value:    {}'.format(lasso_cv.alpha_))\n",
    "print('R-squared train set: {}'.format(lasso_cv.score(X_train, y_train)))\n",
    "print(\"\")\n",
    "print('-----Test set statistics-----')\n",
    "print(\"\")\n",
    "print('R-squared test set:  {}'.format(lasso_cv.score(X_test, y_test)))\n",
    "print('MAE:                 {}'.format(mean_absolute_error(y_test, y_preds_test)))\n",
    "print('MSE:                 {}'.format(mse(y_test, y_preds_test)))\n",
    "print('RMSE:                {}'.format(rmse(y_test, y_preds_test)))\n",
    "print('MAPE:                {}'.format(np.mean(np.abs((y_test - y_preds_test) / y_test)) * 100))"
   ]
  },
  {
   "cell_type": "markdown",
   "metadata": {},
   "source": [
    "#### Observations\n",
    "- Train set R-squared is 65.5%, the worst performing train set so far\n",
    "- Test set adjusted R-squared increased to 77%, making it the second best performer behind OLS\n",
    "- MAE, MSE, RMSE, and MAPE scores are again all low"
   ]
  },
  {
   "cell_type": "code",
   "execution_count": 8,
   "metadata": {
    "scrolled": true
   },
   "outputs": [
    {
     "name": "stdout",
     "output_type": "stream",
     "text": [
      "Train observations: 1168\n",
      "Test observations:  292\n",
      "\n",
      "Best alpha value:    1\n",
      "R-squared train set: 0.8051743657463653\n",
      "\n",
      "-----Test set statistics-----\n",
      "\n",
      "R-squared test set:  0.7981161696749339\n",
      "MAE:                 0.13319109180727418\n",
      "MSE:                 0.03243798615761526\n",
      "RMSE:                0.18010548619521635\n",
      "MAPE:                1.1101629706136893\n"
     ]
    }
   ],
   "source": [
    "# ridge CV\n",
    "\n",
    "# target variable(log-transformed) and feature set\n",
    "Y = np.log1p(df.saleprice)\n",
    "X = df[['overallqual', \n",
    "        'grlivarea', \n",
    "        'garagecars', \n",
    "        'mszoning', \n",
    "        'neighborhood', \n",
    "        'exterior1st', \n",
    "        'int_over_sf', \n",
    "        'totalsf'\n",
    "        ]]\n",
    "\n",
    "# train/test split\n",
    "X_train, X_test, y_train, y_test = train_test_split(X, Y, test_size = 0.2, random_state = 465)\n",
    "\n",
    "# print train and test shape\n",
    "print(\"Train observations: {}\".format(X_train.shape[0]))\n",
    "print(\"Test observations:  {}\".format(X_test.shape[0]))\n",
    "print('')\n",
    "\n",
    "# fit model\n",
    "ridge_cv = RidgeCV(alphas=alphas, cv=5)\n",
    "ridge_cv.fit(X_train, y_train)\n",
    "\n",
    "# predict\n",
    "y_preds_train = ridge_cv.predict(X_train)\n",
    "y_preds_test = ridge_cv.predict(X_test)\n",
    "\n",
    "# print summary statistics\n",
    "print('Best alpha value:    {}'.format(ridge_cv.alpha_))\n",
    "print('R-squared train set: {}'.format(ridge_cv.score(X_train, y_train)))\n",
    "print(\"\")\n",
    "print('-----Test set statistics-----')\n",
    "print(\"\")\n",
    "print('R-squared test set:  {}'.format(ridge_cv.score(X_test, y_test)))\n",
    "print('MAE:                 {}'.format(mean_absolute_error(y_test, y_preds_test)))\n",
    "print('MSE:                 {}'.format(mse(y_test, y_preds_test)))\n",
    "print('RMSE:                {}'.format(rmse(y_test, y_preds_test)))\n",
    "print('MAPE:                {}'.format(np.mean(np.abs((y_test - y_preds_test) / y_test)) * 100))"
   ]
  },
  {
   "cell_type": "markdown",
   "metadata": {},
   "source": [
    "#### Observations\n",
    "- Train set R-squared is 80.5%, making it a middle-of-the-pack performer for train set\n",
    "- Test set adjusted R-squared is 80%, making the second best performer behind OLS\n",
    "- MAE, MSE, RMSE, and MAPE scores are again all low"
   ]
  },
  {
   "cell_type": "code",
   "execution_count": 9,
   "metadata": {
    "scrolled": true
   },
   "outputs": [
    {
     "name": "stdout",
     "output_type": "stream",
     "text": [
      "Train observations: 1168\n",
      "Test observations:  d292\n",
      "\n",
      "Best alpha value:    100\n",
      "R-squared train set: 0.6547543822663481\n",
      "\n",
      "            ----- Test set statistics -----\n",
      "\n",
      "R-squared test set:  0.7759594346029726\n",
      "MAE:                 0.1416077552719938\n",
      "MSE:                 0.03599805267906462\n",
      "RMSE:                0.18973152789946277\n",
      "MAPE:                1.18201283827753\n"
     ]
    }
   ],
   "source": [
    "# elasticnet CV\n",
    "\n",
    "# target variable(log-transformed) and feature set\n",
    "Y = np.log1p(df.saleprice)\n",
    "X = df[['overallqual', \n",
    "        'grlivarea', \n",
    "        'garagecars', \n",
    "        'mszoning', \n",
    "        'neighborhood', \n",
    "        'exterior1st', \n",
    "        'int_over_sf', \n",
    "        'totalsf'\n",
    "        ]]\n",
    "\n",
    "# train/test split\n",
    "X_train, X_test, y_train, y_test = train_test_split(X, Y, test_size = 0.2, random_state = 465)\n",
    "\n",
    "# print train and test shape\n",
    "print(\"Train observations: {}\".format(X_train.shape[0]))\n",
    "print(\"Test observations:  d{}\".format(X_test.shape[0]))\n",
    "print('')\n",
    "\n",
    "# fit model\n",
    "elasticnet_cv = ElasticNetCV(alphas=alphas, cv=5)\n",
    "elasticnet_cv.fit(X_train, y_train)\n",
    "\n",
    "# predict\n",
    "y_preds_train = elasticnet_cv.predict(X_train)\n",
    "y_preds_test = elasticnet_cv.predict(X_test)\n",
    "\n",
    "# print summary statistics\n",
    "print('Best alpha value:    {}'.format(elasticnet_cv.alpha_))\n",
    "print('R-squared train set: {}'.format(elasticnet_cv.score(X_train, y_train)))\n",
    "print(\"\")\n",
    "print('            ----- Test set statistics -----')\n",
    "print(\"\")\n",
    "print('R-squared test set:  {}'.format(elasticnet_cv.score(X_test, y_test)))\n",
    "print('MAE:                 {}'.format(mean_absolute_error(y_test, y_preds_test)))\n",
    "print('MSE:                 {}'.format(mse(y_test, y_preds_test)))\n",
    "print('RMSE:                {}'.format(rmse(y_test, y_preds_test)))\n",
    "print('MAPE:                {}'.format(np.mean(np.abs((y_test - y_preds_test) / y_test)) * 100))"
   ]
  },
  {
   "cell_type": "markdown",
   "metadata": {},
   "source": [
    "#### Observations\n",
    "- Train set R-squared is 65.5%\n",
    "- Test set adjusted R-squared is 77.5%, making it a mediocre performer\n",
    "- MAE, MSE, RMSE, and MAPE scores are all low"
   ]
  },
  {
   "cell_type": "markdown",
   "metadata": {},
   "source": [
    "## Summary Results\n",
    "- Top performers\n",
    "    > - OLS  \n",
    "        > ~ Train:   82.1 %  \n",
    "        > ~ Test:    81.9 %  \n",
    "        > ~ Most accurate train and test score, best performer of all\n",
    "        \n",
    "    > - Ridge CV  \n",
    "        > ~ Train:   80.51 %  \n",
    "        > ~ Test:    79.81 %  \n",
    "        > ~ Close 2nd place behind OLS\n",
    "        \n",
    "- Bottom performers\n",
    "    > - Linear Regression  \n",
    "        > ~ Train:   82.05 %  \n",
    "        > ~ Test:    68.45 %  \n",
    "        > ~ Inline with OLS and Ridge train scores, but test accuracy dropped significantly  \n",
    "        > ~ Suggests overfitting\n",
    "        \n",
    "    > - Lasso CV  \n",
    "        > ~ Train:   65.41 %  \n",
    "        > ~ Test:    77.31 %  \n",
    "        > ~ Better test score than train score surprisingly, but both accuracies on the low side\n",
    "        \n",
    "    > - Elasticnet CV  \n",
    "        > ~ Train:   65.48 %  \n",
    "        > ~ Test:    77.6 %  \n",
    "        > ~ Similar to lasso, better test score than train score, but both accuracies on the low side"
   ]
  },
  {
   "cell_type": "code",
   "execution_count": null,
   "metadata": {},
   "outputs": [],
   "source": []
  }
 ],
 "metadata": {
  "kernelspec": {
   "display_name": "Python 3",
   "language": "python",
   "name": "python3"
  },
  "language_info": {
   "codemirror_mode": {
    "name": "ipython",
    "version": 3
   },
   "file_extension": ".py",
   "mimetype": "text/x-python",
   "name": "python",
   "nbconvert_exporter": "python",
   "pygments_lexer": "ipython3",
   "version": "3.7.2"
  }
 },
 "nbformat": 4,
 "nbformat_minor": 2
}
