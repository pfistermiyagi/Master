{
 "cells": [
  {
   "cell_type": "markdown",
   "metadata": {},
   "source": [
    "Call out potential biases in examples below."
   ]
  },
  {
   "cell_type": "markdown",
   "metadata": {},
   "source": [
    "1. You're testing advertising emails for a bathing suit company and you test one version of the email in February and the other in May.\n",
    "\n",
    "Bias: People are more likely to shop for bathing suits in May (closer to summer) than February (weather still cold)."
   ]
  },
  {
   "cell_type": "markdown",
   "metadata": {},
   "source": [
    "2. You open a clinic to treat anxiety and find that the people who visit show a higher rate of anxiety than the general population.\n",
    "\n",
    "Bias: Because the clinic only treats anxiety as oppposed to other ailments, only people with anxiety would potentially visit. "
   ]
  },
  {
   "cell_type": "markdown",
   "metadata": {},
   "source": [
    "3. You launch a new ad billboard based campaign and see an increase in website visits in the first week.\n",
    "\n",
    "Bias: Increased website visits could be due to some other factor."
   ]
  },
  {
   "cell_type": "markdown",
   "metadata": {},
   "source": [
    "4. You launch a loyalty program but see no change in visits in the first week.\n",
    "\n",
    "Bias: May need more time, people aren't aware of the loyalty program yet."
   ]
  }
 ],
 "metadata": {
  "kernelspec": {
   "display_name": "Python 3",
   "language": "python",
   "name": "python3"
  },
  "language_info": {
   "codemirror_mode": {
    "name": "ipython",
    "version": 3
   },
   "file_extension": ".py",
   "mimetype": "text/x-python",
   "name": "python",
   "nbconvert_exporter": "python",
   "pygments_lexer": "ipython3",
   "version": "3.7.2"
  }
 },
 "nbformat": 4,
 "nbformat_minor": 2
}
