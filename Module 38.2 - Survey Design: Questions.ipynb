{
  "nbformat": 4,
  "nbformat_minor": 0,
  "metadata": {
    "colab": {
      "name": "38.2 - Survey Design: Questions",
      "provenance": [],
      "include_colab_link": true
    },
    "kernelspec": {
      "name": "python3",
      "display_name": "Python 3"
    }
  },
  "cells": [
    {
      "cell_type": "markdown",
      "metadata": {
        "id": "view-in-github",
        "colab_type": "text"
      },
      "source": [
        "<a href=\"https://colab.research.google.com/github/pfistermiyagi/Master/blob/master/Module%2038.2%20-%20Survey%20Design%3A%20Questions.ipynb\" target=\"_parent\"><img src=\"https://colab.research.google.com/assets/colab-badge.svg\" alt=\"Open In Colab\"/></a>"
      ]
    },
    {
      "cell_type": "markdown",
      "metadata": {
        "id": "bVJKftcy3rfB",
        "colab_type": "text"
      },
      "source": [
        "#DRILL: Question Design\n",
        "##For each of the following, indicate the best question type to use and why.\n",
        "\n",
        "* Age\n",
        "    > Write in/free response.  \n",
        "    > Group ages together (18-34 year olds) and ask multiple choice/choose one.  \n",
        "    > Pick a line-in-the-sand-age and ask a yes/no question if they are over or under the arbitrary age.\n",
        "\n",
        "* Gender\n",
        "    > Multiple choice/choose one.  \n",
        "    > Write in/free response.  \n",
        "    > Yes/no question (\"Are you male?\").\n",
        "\n",
        "* Income\n",
        "    > Write in/free response.  \n",
        "    > Create multiple income groups/ranges and ask multiple choice/choose one.  \n",
        "    > Yes/no question (\"Do you make above/below X amount of income?\").\n",
        "\n",
        "* Opinions about dish soap\n",
        "    > All question types can be asked in one form or another.\n",
        "\n",
        "* Brand of dish soap used\n",
        "    > All question types can be asked in one form or another.\n",
        "\n",
        "* Preference for dish soap brand (Cleany, Sudsy, DeGreaser, Pinesoft)\n",
        "    > All question types can be asked in one form or another.\n",
        "\n",
        "* Positive vs negative feelings about dish soap\n",
        "    > All question types can be asked in one form or another."
      ]
    },
    {
      "cell_type": "markdown",
      "metadata": {
        "id": "6th7SenQ9AdD",
        "colab_type": "text"
      },
      "source": [
        "#DRILL: Fix the flaw\n",
        "Here is a link to a Mainstream Media Accountability Survey sent to the public by the Trump Administration in February 2017. Read over the survey and select five questions you believe can be improved. Describe the flaw you see and write an improved version of the question.  \n",
        "\n",
        "* #7 What television source do you primarily get your news from?  \n",
        "    > This is a loaded question. It presumes that the person gets their news from television. There may be people who only get their news from newspapers and/or podcasts, etc.  \n",
        "    > Correction  \n",
        "        >> 1. Do you get your news from television? Yes/no  \n",
        "        >> 2. If you answered Yes to question #1, what television source do you primarily get your news from? Multiple choice/choose one  "
      ]
    }
  ]
}