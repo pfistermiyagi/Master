{
 "cells": [
  {
   "cell_type": "markdown",
   "metadata": {},
   "source": [
    "Look back to the potential experiments in the previous assignment. For one of those experiments, write up the essential points of a research proposal for an improved version of that experiment."
   ]
  },
  {
   "cell_type": "markdown",
   "metadata": {},
   "source": [
    "1. The Sith Lords are concerned that their recruiting slogan, \"Give In to Your Anger,\" isn't very effective. Darth Vader develops an alternative slogan, \"Together We Can Rule the Galaxy.\" They compare the slogans on two groups of 50 captured droids each. In one group, Emperor Palpatine delivers the \"Anger\" slogan. In the other, Darth Vader presents the \"Together\" slogan. 20 droids convert to the Dark Side after hearing Palpatine's slogan, while only 5 droids convert after hearing Vader's. The Sith's data scientist concludes that \"Anger\" is a more effective slogan and should continue to be used.\n",
    "\n",
    "PROBLEM: The current slogan, \"Give in to your anger,\" may not be effective in converting people to the Dark Side. The Siths need a steady supply of converts to the Dark Side in order to take over the galaxy. Studying which slogans work best for converting could potentially increase the amount of Dark Side converts, thereby increasing its power in the galaxy.\n",
    "\n",
    "POTENTIAL SOLUTION: Switching to the slogan, \"Together we can rule the galaxy,\" will increase converts to the Dark Side.\n",
    "\n",
    "METHOD OF TESTING: Divide captured droids into 4 groups of 50, with Vader getting 2 groups and the Emperor getting two groups. Vader will test both slogans, one for each group, and the Emperor will test both slogans, again one for each group. This method will truly show the more popular slogan.\n",
    "\n",
    "Compare converts from each representative and each slogan to the current baseline conversion rate. If conversion rate of new slogan is higher than baseline, switch to new slogan. If not, stick with current slogan. \n"
   ]
  }
 ],
 "metadata": {
  "kernelspec": {
   "display_name": "Python 3",
   "language": "python",
   "name": "python3"
  },
  "language_info": {
   "codemirror_mode": {
    "name": "ipython",
    "version": 3
   },
   "file_extension": ".py",
   "mimetype": "text/x-python",
   "name": "python",
   "nbconvert_exporter": "python",
   "pygments_lexer": "ipython3",
   "version": "3.7.2"
  }
 },
 "nbformat": 4,
 "nbformat_minor": 2
}
